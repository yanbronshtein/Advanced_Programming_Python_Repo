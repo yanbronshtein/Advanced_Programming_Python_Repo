{
 "cells": [
  {
   "cell_type": "code",
   "execution_count": 1,
   "metadata": {},
   "outputs": [],
   "source": [
    "import pandas as pd\n",
    "import numpy as np\n",
    "import matplotlib.pyplot as plt\n",
    "import seaborn as sns\n",
    "import string\n",
    "# from unidecode import unidecode # For replacing non-english characters\n",
    "from nltk.corpus import stopwords\n",
    "from nltk import word_tokenize\n",
    "STOPWORDS = set(stopwords.words('english'))\n",
    "import re\n",
    "from collections import Counter"
   ]
  },
  {
   "cell_type": "code",
   "execution_count": 2,
   "metadata": {},
   "outputs": [],
   "source": [
    "pd.set_option('display.max_rows', None)"
   ]
  },
  {
   "cell_type": "markdown",
   "metadata": {},
   "source": [
    "# Step 1: Read and display the script and character data"
   ]
  },
  {
   "cell_type": "code",
   "execution_count": 9,
   "metadata": {},
   "outputs": [],
   "source": [
    "harry_potter1_df = pd.read_csv('../Data/harry_potter/Harry Potter 1.csv')\n",
    "harry_potter2_df = pd.read_csv('../Data/harry_potter/Harry Potter 2.csv')\n",
    "harry_potter3_df = pd.read_csv('../Data/harry_potter/Harry Potter 3.csv')\n",
    "                            "
   ]
  },
  {
   "cell_type": "code",
   "execution_count": 23,
   "metadata": {},
   "outputs": [
    {
     "name": "stdout",
     "output_type": "stream",
     "text": [
      "Harry Potter 1 shape: (1519, 2)\n",
      "Harry Potter 2 shape: (1519, 2)\n",
      "Harry Potter 3 shape: (1519, 2)\n"
     ]
    }
   ],
   "source": [
    "print(f\"Harry Potter 1 shape: {harry_potter1_df.shape}\")\n",
    "print(f\"Harry Potter 2 shape: {harry_potter2_df.shape}\")\n",
    "print(f\"Harry Potter 3 shape: {harry_potter3_df.shape}\")"
   ]
  },
  {
   "cell_type": "code",
   "execution_count": 10,
   "metadata": {},
   "outputs": [
    {
     "data": {
      "text/html": [
       "<div>\n",
       "<style scoped>\n",
       "    .dataframe tbody tr th:only-of-type {\n",
       "        vertical-align: middle;\n",
       "    }\n",
       "\n",
       "    .dataframe tbody tr th {\n",
       "        vertical-align: top;\n",
       "    }\n",
       "\n",
       "    .dataframe thead th {\n",
       "        text-align: right;\n",
       "    }\n",
       "</style>\n",
       "<table border=\"1\" class=\"dataframe\">\n",
       "  <thead>\n",
       "    <tr style=\"text-align: right;\">\n",
       "      <th></th>\n",
       "      <th>Character</th>\n",
       "      <th>Sentence</th>\n",
       "      <th>Unnamed: 2</th>\n",
       "      <th>Unnamed: 3</th>\n",
       "      <th>Unnamed: 4</th>\n",
       "      <th>Unnamed: 5</th>\n",
       "      <th>Unnamed: 6</th>\n",
       "      <th>Unnamed: 7</th>\n",
       "      <th>Unnamed: 8</th>\n",
       "    </tr>\n",
       "  </thead>\n",
       "  <tbody>\n",
       "    <tr>\n",
       "      <th>0</th>\n",
       "      <td>Dumbledore</td>\n",
       "      <td>I should've known that you would be here</td>\n",
       "      <td>NaN</td>\n",
       "      <td>NaN</td>\n",
       "      <td>NaN</td>\n",
       "      <td>NaN</td>\n",
       "      <td>NaN</td>\n",
       "      <td>NaN</td>\n",
       "      <td>NaN</td>\n",
       "    </tr>\n",
       "    <tr>\n",
       "      <th>1</th>\n",
       "      <td>McGonagall</td>\n",
       "      <td>Good evening</td>\n",
       "      <td>NaN</td>\n",
       "      <td>NaN</td>\n",
       "      <td>NaN</td>\n",
       "      <td>NaN</td>\n",
       "      <td>NaN</td>\n",
       "      <td>NaN</td>\n",
       "      <td>NaN</td>\n",
       "    </tr>\n",
       "    <tr>\n",
       "      <th>2</th>\n",
       "      <td>McGonagall</td>\n",
       "      <td>Are the rumors true</td>\n",
       "      <td>NaN</td>\n",
       "      <td>NaN</td>\n",
       "      <td>NaN</td>\n",
       "      <td>NaN</td>\n",
       "      <td>NaN</td>\n",
       "      <td>NaN</td>\n",
       "      <td>NaN</td>\n",
       "    </tr>\n",
       "    <tr>\n",
       "      <th>3</th>\n",
       "      <td>Dumbledore</td>\n",
       "      <td>I'm afraid so</td>\n",
       "      <td>NaN</td>\n",
       "      <td>NaN</td>\n",
       "      <td>NaN</td>\n",
       "      <td>NaN</td>\n",
       "      <td>NaN</td>\n",
       "      <td>NaN</td>\n",
       "      <td>NaN</td>\n",
       "    </tr>\n",
       "    <tr>\n",
       "      <th>4</th>\n",
       "      <td>Dumbledore</td>\n",
       "      <td>The good and the bad.</td>\n",
       "      <td>NaN</td>\n",
       "      <td>NaN</td>\n",
       "      <td>NaN</td>\n",
       "      <td>NaN</td>\n",
       "      <td>NaN</td>\n",
       "      <td>NaN</td>\n",
       "      <td>NaN</td>\n",
       "    </tr>\n",
       "  </tbody>\n",
       "</table>\n",
       "</div>"
      ],
      "text/plain": [
       "    Character                                  Sentence Unnamed: 2 Unnamed: 3  \\\n",
       "0  Dumbledore  I should've known that you would be here        NaN        NaN   \n",
       "1  McGonagall                              Good evening        NaN        NaN   \n",
       "2  McGonagall                       Are the rumors true        NaN        NaN   \n",
       "3  Dumbledore                             I'm afraid so        NaN        NaN   \n",
       "4  Dumbledore                     The good and the bad.        NaN        NaN   \n",
       "\n",
       "  Unnamed: 4 Unnamed: 5 Unnamed: 6 Unnamed: 7 Unnamed: 8  \n",
       "0        NaN        NaN        NaN        NaN        NaN  \n",
       "1        NaN        NaN        NaN        NaN        NaN  \n",
       "2        NaN        NaN        NaN        NaN        NaN  \n",
       "3        NaN        NaN        NaN        NaN        NaN  \n",
       "4        NaN        NaN        NaN        NaN        NaN  "
      ]
     },
     "execution_count": 10,
     "metadata": {},
     "output_type": "execute_result"
    }
   ],
   "source": [
    "harry_potter1_df.head()"
   ]
  },
  {
   "cell_type": "code",
   "execution_count": 12,
   "metadata": {},
   "outputs": [
    {
     "data": {
      "text/html": [
       "<div>\n",
       "<style scoped>\n",
       "    .dataframe tbody tr th:only-of-type {\n",
       "        vertical-align: middle;\n",
       "    }\n",
       "\n",
       "    .dataframe tbody tr th {\n",
       "        vertical-align: top;\n",
       "    }\n",
       "\n",
       "    .dataframe thead th {\n",
       "        text-align: right;\n",
       "    }\n",
       "</style>\n",
       "<table border=\"1\" class=\"dataframe\">\n",
       "  <thead>\n",
       "    <tr style=\"text-align: right;\">\n",
       "      <th></th>\n",
       "      <th>Character</th>\n",
       "      <th>Sentence</th>\n",
       "      <th>Unnamed: 2</th>\n",
       "      <th>Unnamed: 3</th>\n",
       "      <th>Unnamed: 4</th>\n",
       "      <th>Unnamed: 5</th>\n",
       "      <th>Unnamed: 6</th>\n",
       "    </tr>\n",
       "  </thead>\n",
       "  <tbody>\n",
       "    <tr>\n",
       "      <th>0</th>\n",
       "      <td>HARRY</td>\n",
       "      <td>I can’t let you out</td>\n",
       "      <td>NaN</td>\n",
       "      <td>NaN</td>\n",
       "      <td>NaN</td>\n",
       "      <td>NaN</td>\n",
       "      <td>NaN</td>\n",
       "    </tr>\n",
       "    <tr>\n",
       "      <th>1</th>\n",
       "      <td>HARRY</td>\n",
       "      <td>I’m not allowed to use magic outside of school.</td>\n",
       "      <td>NaN</td>\n",
       "      <td>NaN</td>\n",
       "      <td>NaN</td>\n",
       "      <td>NaN</td>\n",
       "      <td>NaN</td>\n",
       "    </tr>\n",
       "    <tr>\n",
       "      <th>2</th>\n",
       "      <td>HARRY</td>\n",
       "      <td>Besides</td>\n",
       "      <td>NaN</td>\n",
       "      <td>NaN</td>\n",
       "      <td>NaN</td>\n",
       "      <td>NaN</td>\n",
       "      <td>NaN</td>\n",
       "    </tr>\n",
       "    <tr>\n",
       "      <th>3</th>\n",
       "      <td>VERNON</td>\n",
       "      <td>Harry Potter!</td>\n",
       "      <td>NaN</td>\n",
       "      <td>NaN</td>\n",
       "      <td>NaN</td>\n",
       "      <td>NaN</td>\n",
       "      <td>NaN</td>\n",
       "    </tr>\n",
       "    <tr>\n",
       "      <th>4</th>\n",
       "      <td>HARRY</td>\n",
       "      <td>Now you’ve done it.</td>\n",
       "      <td>NaN</td>\n",
       "      <td>NaN</td>\n",
       "      <td>NaN</td>\n",
       "      <td>NaN</td>\n",
       "      <td>NaN</td>\n",
       "    </tr>\n",
       "  </tbody>\n",
       "</table>\n",
       "</div>"
      ],
      "text/plain": [
       "  Character                                          Sentence Unnamed: 2  \\\n",
       "0    HARRY                                I can’t let you out        NaN   \n",
       "1    HARRY   I’m not allowed to use magic outside of school.         NaN   \n",
       "2    HARRY                                            Besides        NaN   \n",
       "3    VERNON                                     Harry Potter!        NaN   \n",
       "4     HARRY                               Now you’ve done it.        NaN   \n",
       "\n",
       "  Unnamed: 3 Unnamed: 4 Unnamed: 5 Unnamed: 6  \n",
       "0        NaN        NaN        NaN        NaN  \n",
       "1        NaN        NaN        NaN        NaN  \n",
       "2        NaN        NaN        NaN        NaN  \n",
       "3        NaN        NaN        NaN        NaN  \n",
       "4        NaN        NaN        NaN        NaN  "
      ]
     },
     "execution_count": 12,
     "metadata": {},
     "output_type": "execute_result"
    }
   ],
   "source": [
    "harry_potter2_df.head()"
   ]
  },
  {
   "cell_type": "code",
   "execution_count": 13,
   "metadata": {},
   "outputs": [
    {
     "data": {
      "text/html": [
       "<div>\n",
       "<style scoped>\n",
       "    .dataframe tbody tr th:only-of-type {\n",
       "        vertical-align: middle;\n",
       "    }\n",
       "\n",
       "    .dataframe tbody tr th {\n",
       "        vertical-align: top;\n",
       "    }\n",
       "\n",
       "    .dataframe thead th {\n",
       "        text-align: right;\n",
       "    }\n",
       "</style>\n",
       "<table border=\"1\" class=\"dataframe\">\n",
       "  <thead>\n",
       "    <tr style=\"text-align: right;\">\n",
       "      <th></th>\n",
       "      <th>CHARACTER</th>\n",
       "      <th>SENTENCE</th>\n",
       "      <th>Unnamed: 2</th>\n",
       "      <th>Unnamed: 3</th>\n",
       "      <th>Unnamed: 4</th>\n",
       "      <th>Unnamed: 5</th>\n",
       "      <th>Unnamed: 6</th>\n",
       "      <th>Unnamed: 7</th>\n",
       "    </tr>\n",
       "  </thead>\n",
       "  <tbody>\n",
       "    <tr>\n",
       "      <th>0</th>\n",
       "      <td>HARRY</td>\n",
       "      <td>Lumos Maxima...</td>\n",
       "      <td>NaN</td>\n",
       "      <td>NaN</td>\n",
       "      <td>NaN</td>\n",
       "      <td>NaN</td>\n",
       "      <td>NaN</td>\n",
       "      <td>NaN</td>\n",
       "    </tr>\n",
       "    <tr>\n",
       "      <th>1</th>\n",
       "      <td>HARRY</td>\n",
       "      <td>Lumos Maxima...</td>\n",
       "      <td>NaN</td>\n",
       "      <td>NaN</td>\n",
       "      <td>NaN</td>\n",
       "      <td>NaN</td>\n",
       "      <td>NaN</td>\n",
       "      <td>NaN</td>\n",
       "    </tr>\n",
       "    <tr>\n",
       "      <th>2</th>\n",
       "      <td>HARRY</td>\n",
       "      <td>Lumos Maxima...</td>\n",
       "      <td>NaN</td>\n",
       "      <td>NaN</td>\n",
       "      <td>NaN</td>\n",
       "      <td>NaN</td>\n",
       "      <td>NaN</td>\n",
       "      <td>NaN</td>\n",
       "    </tr>\n",
       "    <tr>\n",
       "      <th>3</th>\n",
       "      <td>HARRY</td>\n",
       "      <td>Lumos... MAXIMA!</td>\n",
       "      <td>NaN</td>\n",
       "      <td>NaN</td>\n",
       "      <td>NaN</td>\n",
       "      <td>NaN</td>\n",
       "      <td>NaN</td>\n",
       "      <td>NaN</td>\n",
       "    </tr>\n",
       "    <tr>\n",
       "      <th>4</th>\n",
       "      <td>AUNT PETUNIA</td>\n",
       "      <td>Harry! Harry!</td>\n",
       "      <td>NaN</td>\n",
       "      <td>NaN</td>\n",
       "      <td>NaN</td>\n",
       "      <td>NaN</td>\n",
       "      <td>NaN</td>\n",
       "      <td>NaN</td>\n",
       "    </tr>\n",
       "  </tbody>\n",
       "</table>\n",
       "</div>"
      ],
      "text/plain": [
       "      CHARACTER          SENTENCE Unnamed: 2 Unnamed: 3 Unnamed: 4 Unnamed: 5  \\\n",
       "0         HARRY   Lumos Maxima...        NaN        NaN        NaN        NaN   \n",
       "1         HARRY   Lumos Maxima...        NaN        NaN        NaN        NaN   \n",
       "2         HARRY   Lumos Maxima...        NaN        NaN        NaN        NaN   \n",
       "3         HARRY  Lumos... MAXIMA!        NaN        NaN        NaN        NaN   \n",
       "4  AUNT PETUNIA     Harry! Harry!        NaN        NaN        NaN        NaN   \n",
       "\n",
       "  Unnamed: 6 Unnamed: 7  \n",
       "0        NaN        NaN  \n",
       "1        NaN        NaN  \n",
       "2        NaN        NaN  \n",
       "3        NaN        NaN  \n",
       "4        NaN        NaN  "
      ]
     },
     "execution_count": 13,
     "metadata": {},
     "output_type": "execute_result"
    }
   ],
   "source": [
    "harry_potter3_df.head()"
   ]
  },
  {
   "cell_type": "code",
   "execution_count": 14,
   "metadata": {},
   "outputs": [
    {
     "data": {
      "text/plain": [
       "Index(['Character', 'Sentence', 'Unnamed: 2', 'Unnamed: 3', 'Unnamed: 4',\n",
       "       'Unnamed: 5', 'Unnamed: 6', 'Unnamed: 7', 'Unnamed: 8'],\n",
       "      dtype='object')"
      ]
     },
     "execution_count": 14,
     "metadata": {},
     "output_type": "execute_result"
    }
   ],
   "source": [
    "harry_potter1_df.columns"
   ]
  },
  {
   "cell_type": "code",
   "execution_count": 17,
   "metadata": {},
   "outputs": [],
   "source": [
    "# Get rid of garbage columns\n",
    "cols_to_keep = ['Character', 'Sentence']\n",
    "harry_potter1_df = harry_potter1_df[cols_to_keep]\n",
    "harry_potter2_df = harry_potter1_df[cols_to_keep]\n",
    "harry_potter3_df = harry_potter1_df[cols_to_keep]"
   ]
  },
  {
   "cell_type": "code",
   "execution_count": 18,
   "metadata": {},
   "outputs": [
    {
     "data": {
      "text/html": [
       "<div>\n",
       "<style scoped>\n",
       "    .dataframe tbody tr th:only-of-type {\n",
       "        vertical-align: middle;\n",
       "    }\n",
       "\n",
       "    .dataframe tbody tr th {\n",
       "        vertical-align: top;\n",
       "    }\n",
       "\n",
       "    .dataframe thead th {\n",
       "        text-align: right;\n",
       "    }\n",
       "</style>\n",
       "<table border=\"1\" class=\"dataframe\">\n",
       "  <thead>\n",
       "    <tr style=\"text-align: right;\">\n",
       "      <th></th>\n",
       "      <th>Character</th>\n",
       "      <th>Sentence</th>\n",
       "    </tr>\n",
       "  </thead>\n",
       "  <tbody>\n",
       "    <tr>\n",
       "      <th>0</th>\n",
       "      <td>Dumbledore</td>\n",
       "      <td>I should've known that you would be here</td>\n",
       "    </tr>\n",
       "    <tr>\n",
       "      <th>1</th>\n",
       "      <td>McGonagall</td>\n",
       "      <td>Good evening</td>\n",
       "    </tr>\n",
       "    <tr>\n",
       "      <th>2</th>\n",
       "      <td>McGonagall</td>\n",
       "      <td>Are the rumors true</td>\n",
       "    </tr>\n",
       "    <tr>\n",
       "      <th>3</th>\n",
       "      <td>Dumbledore</td>\n",
       "      <td>I'm afraid so</td>\n",
       "    </tr>\n",
       "    <tr>\n",
       "      <th>4</th>\n",
       "      <td>Dumbledore</td>\n",
       "      <td>The good and the bad.</td>\n",
       "    </tr>\n",
       "  </tbody>\n",
       "</table>\n",
       "</div>"
      ],
      "text/plain": [
       "    Character                                  Sentence\n",
       "0  Dumbledore  I should've known that you would be here\n",
       "1  McGonagall                              Good evening\n",
       "2  McGonagall                       Are the rumors true\n",
       "3  Dumbledore                             I'm afraid so\n",
       "4  Dumbledore                     The good and the bad."
      ]
     },
     "execution_count": 18,
     "metadata": {},
     "output_type": "execute_result"
    }
   ],
   "source": [
    "harry_potter1_df.head()"
   ]
  },
  {
   "cell_type": "code",
   "execution_count": 25,
   "metadata": {},
   "outputs": [
    {
     "data": {
      "text/html": [
       "<div>\n",
       "<style scoped>\n",
       "    .dataframe tbody tr th:only-of-type {\n",
       "        vertical-align: middle;\n",
       "    }\n",
       "\n",
       "    .dataframe tbody tr th {\n",
       "        vertical-align: top;\n",
       "    }\n",
       "\n",
       "    .dataframe thead th {\n",
       "        text-align: right;\n",
       "    }\n",
       "</style>\n",
       "<table border=\"1\" class=\"dataframe\">\n",
       "  <thead>\n",
       "    <tr style=\"text-align: right;\">\n",
       "      <th></th>\n",
       "      <th>Character</th>\n",
       "      <th>Sentence</th>\n",
       "    </tr>\n",
       "  </thead>\n",
       "  <tbody>\n",
       "    <tr>\n",
       "      <th>count</th>\n",
       "      <td>1517</td>\n",
       "      <td>1516</td>\n",
       "    </tr>\n",
       "    <tr>\n",
       "      <th>unique</th>\n",
       "      <td>91</td>\n",
       "      <td>1344</td>\n",
       "    </tr>\n",
       "    <tr>\n",
       "      <th>top</th>\n",
       "      <td>Harry</td>\n",
       "      <td>Oh</td>\n",
       "    </tr>\n",
       "    <tr>\n",
       "      <th>freq</th>\n",
       "      <td>151</td>\n",
       "      <td>26</td>\n",
       "    </tr>\n",
       "  </tbody>\n",
       "</table>\n",
       "</div>"
      ],
      "text/plain": [
       "       Character Sentence\n",
       "count       1517     1516\n",
       "unique        91     1344\n",
       "top        Harry       Oh\n",
       "freq         151       26"
      ]
     },
     "execution_count": 25,
     "metadata": {},
     "output_type": "execute_result"
    }
   ],
   "source": [
    "harry_potter1_df.describe()"
   ]
  },
  {
   "cell_type": "code",
   "execution_count": 26,
   "metadata": {},
   "outputs": [
    {
     "data": {
      "text/html": [
       "<div>\n",
       "<style scoped>\n",
       "    .dataframe tbody tr th:only-of-type {\n",
       "        vertical-align: middle;\n",
       "    }\n",
       "\n",
       "    .dataframe tbody tr th {\n",
       "        vertical-align: top;\n",
       "    }\n",
       "\n",
       "    .dataframe thead th {\n",
       "        text-align: right;\n",
       "    }\n",
       "</style>\n",
       "<table border=\"1\" class=\"dataframe\">\n",
       "  <thead>\n",
       "    <tr style=\"text-align: right;\">\n",
       "      <th></th>\n",
       "      <th>Character</th>\n",
       "      <th>Sentence</th>\n",
       "    </tr>\n",
       "  </thead>\n",
       "  <tbody>\n",
       "    <tr>\n",
       "      <th>count</th>\n",
       "      <td>1517</td>\n",
       "      <td>1516</td>\n",
       "    </tr>\n",
       "    <tr>\n",
       "      <th>unique</th>\n",
       "      <td>91</td>\n",
       "      <td>1344</td>\n",
       "    </tr>\n",
       "    <tr>\n",
       "      <th>top</th>\n",
       "      <td>Harry</td>\n",
       "      <td>Oh</td>\n",
       "    </tr>\n",
       "    <tr>\n",
       "      <th>freq</th>\n",
       "      <td>151</td>\n",
       "      <td>26</td>\n",
       "    </tr>\n",
       "  </tbody>\n",
       "</table>\n",
       "</div>"
      ],
      "text/plain": [
       "       Character Sentence\n",
       "count       1517     1516\n",
       "unique        91     1344\n",
       "top        Harry       Oh\n",
       "freq         151       26"
      ]
     },
     "execution_count": 26,
     "metadata": {},
     "output_type": "execute_result"
    }
   ],
   "source": [
    "harry_potter2_df.describe()"
   ]
  },
  {
   "cell_type": "code",
   "execution_count": 27,
   "metadata": {},
   "outputs": [
    {
     "data": {
      "text/html": [
       "<div>\n",
       "<style scoped>\n",
       "    .dataframe tbody tr th:only-of-type {\n",
       "        vertical-align: middle;\n",
       "    }\n",
       "\n",
       "    .dataframe tbody tr th {\n",
       "        vertical-align: top;\n",
       "    }\n",
       "\n",
       "    .dataframe thead th {\n",
       "        text-align: right;\n",
       "    }\n",
       "</style>\n",
       "<table border=\"1\" class=\"dataframe\">\n",
       "  <thead>\n",
       "    <tr style=\"text-align: right;\">\n",
       "      <th></th>\n",
       "      <th>Character</th>\n",
       "      <th>Sentence</th>\n",
       "    </tr>\n",
       "  </thead>\n",
       "  <tbody>\n",
       "    <tr>\n",
       "      <th>count</th>\n",
       "      <td>1517</td>\n",
       "      <td>1516</td>\n",
       "    </tr>\n",
       "    <tr>\n",
       "      <th>unique</th>\n",
       "      <td>91</td>\n",
       "      <td>1344</td>\n",
       "    </tr>\n",
       "    <tr>\n",
       "      <th>top</th>\n",
       "      <td>Harry</td>\n",
       "      <td>Oh</td>\n",
       "    </tr>\n",
       "    <tr>\n",
       "      <th>freq</th>\n",
       "      <td>151</td>\n",
       "      <td>26</td>\n",
       "    </tr>\n",
       "  </tbody>\n",
       "</table>\n",
       "</div>"
      ],
      "text/plain": [
       "       Character Sentence\n",
       "count       1517     1516\n",
       "unique        91     1344\n",
       "top        Harry       Oh\n",
       "freq         151       26"
      ]
     },
     "execution_count": 27,
     "metadata": {},
     "output_type": "execute_result"
    }
   ],
   "source": [
    "harry_potter3_df.describe()"
   ]
  },
  {
   "cell_type": "markdown",
   "metadata": {},
   "source": [
    "# Step 2: Look at distinct values of character column for each movie"
   ]
  },
  {
   "cell_type": "code",
   "execution_count": 28,
   "metadata": {},
   "outputs": [],
   "source": [
    "harry_potter1_df = harry_potter1_df.astype(str)\n",
    "harry_potter2_df = harry_potter2_df.astype(str)\n",
    "harry_potter3_df = harry_potter3_df.astype(str)"
   ]
  },
  {
   "cell_type": "code",
   "execution_count": 32,
   "metadata": {},
   "outputs": [],
   "source": [
    "def get_char_stats(df, film):\n",
    "    print(f\"We have {len(df.Character.unique())} characters as follows for Harry Potter {film}:\\n {df.Character.unique()}\")\n",
    "        "
   ]
  },
  {
   "cell_type": "code",
   "execution_count": 33,
   "metadata": {},
   "outputs": [
    {
     "name": "stdout",
     "output_type": "stream",
     "text": [
      "We have 92 characters as follows for Harry Potter1:\n",
      " ['Dumbledore' 'McGonagall' 'Hagrid' 'Petunia' 'Dudley' 'Vernon' 'Harry'\n",
      " 'Snake' 'Someone' ' either an owl' 'Barkeep\\xa0Tom' 'Man' 'Witch'\n",
      " 'Quirrell' 'Boy' 'Goblin' 'Griphook' 'Ollivander' 'Trainmaster'\n",
      " 'Mrs. Weasley' 'George' 'Fred' 'Ginny' 'Ron' 'Woman' 'Hermione' 'Neville'\n",
      " 'Malfoy' 'Whispers' 'Sorting Hat' 'Seamus' 'Percy' 'Sir Nicholas' 'Girl'\n",
      " 'Man in paint' 'Fat Lady' 'Snape' 'Dean' 'nan' 'Madam Hooch' 'Class'\n",
      " 'Harry ' 'Fred  ' 'Ron  ' 'George  ' 'Harry  ' 'Hermione  ' 'Ron '\n",
      " 'Hermione ' 'Filch' 'All  ' 'Oliver ' 'Oliver  ' 'Flitwick' 'Draco  '\n",
      " 'Flitwick  ' 'Seamus  ' 'Girl  ' 'Boy  ' 'Percy  ' 'McGonagall '\n",
      " 'Ron and Harry' 'McGonagall  ' 'Quirrell  ' 'Snape  ' 'OIiver  '\n",
      " 'Lee Jordan' 'Hagrid ' 'Gryffindors  ' 'Flint  ' 'Crowd  ' 'Flint'\n",
      " 'Hagrid  ' 'Man  ' 'Lee  Jordan' 'Madam Hooch ' 'Quirrell ' 'Filch  '\n",
      " 'Dumbledore  ' 'Hermoine' 'Ron and Harry  ' 'Filch ' 'Firenze  '\n",
      " 'Firenze ' 'Snape ' 'Neville  ' 'Ron   ' 'Voldemort ' 'Voldemort'\n",
      " 'Voldemort  ' 'Dumbledore ' 'Students']\n"
     ]
    }
   ],
   "source": [
    "get_char_stats(harry_potter1_df,1)"
   ]
  },
  {
   "cell_type": "code",
   "execution_count": 34,
   "metadata": {},
   "outputs": [
    {
     "name": "stdout",
     "output_type": "stream",
     "text": [
      "We have 92 characters as follows for Harry Potter2:\n",
      " ['Dumbledore' 'McGonagall' 'Hagrid' 'Petunia' 'Dudley' 'Vernon' 'Harry'\n",
      " 'Snake' 'Someone' ' either an owl' 'Barkeep\\xa0Tom' 'Man' 'Witch'\n",
      " 'Quirrell' 'Boy' 'Goblin' 'Griphook' 'Ollivander' 'Trainmaster'\n",
      " 'Mrs. Weasley' 'George' 'Fred' 'Ginny' 'Ron' 'Woman' 'Hermione' 'Neville'\n",
      " 'Malfoy' 'Whispers' 'Sorting Hat' 'Seamus' 'Percy' 'Sir Nicholas' 'Girl'\n",
      " 'Man in paint' 'Fat Lady' 'Snape' 'Dean' 'nan' 'Madam Hooch' 'Class'\n",
      " 'Harry ' 'Fred  ' 'Ron  ' 'George  ' 'Harry  ' 'Hermione  ' 'Ron '\n",
      " 'Hermione ' 'Filch' 'All  ' 'Oliver ' 'Oliver  ' 'Flitwick' 'Draco  '\n",
      " 'Flitwick  ' 'Seamus  ' 'Girl  ' 'Boy  ' 'Percy  ' 'McGonagall '\n",
      " 'Ron and Harry' 'McGonagall  ' 'Quirrell  ' 'Snape  ' 'OIiver  '\n",
      " 'Lee Jordan' 'Hagrid ' 'Gryffindors  ' 'Flint  ' 'Crowd  ' 'Flint'\n",
      " 'Hagrid  ' 'Man  ' 'Lee  Jordan' 'Madam Hooch ' 'Quirrell ' 'Filch  '\n",
      " 'Dumbledore  ' 'Hermoine' 'Ron and Harry  ' 'Filch ' 'Firenze  '\n",
      " 'Firenze ' 'Snape ' 'Neville  ' 'Ron   ' 'Voldemort ' 'Voldemort'\n",
      " 'Voldemort  ' 'Dumbledore ' 'Students']\n"
     ]
    }
   ],
   "source": [
    "get_char_stats(harry_potter1_df,2)"
   ]
  },
  {
   "cell_type": "code",
   "execution_count": 35,
   "metadata": {},
   "outputs": [
    {
     "name": "stdout",
     "output_type": "stream",
     "text": [
      "We have 92 characters as follows for Harry Potter3:\n",
      " ['Dumbledore' 'McGonagall' 'Hagrid' 'Petunia' 'Dudley' 'Vernon' 'Harry'\n",
      " 'Snake' 'Someone' ' either an owl' 'Barkeep\\xa0Tom' 'Man' 'Witch'\n",
      " 'Quirrell' 'Boy' 'Goblin' 'Griphook' 'Ollivander' 'Trainmaster'\n",
      " 'Mrs. Weasley' 'George' 'Fred' 'Ginny' 'Ron' 'Woman' 'Hermione' 'Neville'\n",
      " 'Malfoy' 'Whispers' 'Sorting Hat' 'Seamus' 'Percy' 'Sir Nicholas' 'Girl'\n",
      " 'Man in paint' 'Fat Lady' 'Snape' 'Dean' 'nan' 'Madam Hooch' 'Class'\n",
      " 'Harry ' 'Fred  ' 'Ron  ' 'George  ' 'Harry  ' 'Hermione  ' 'Ron '\n",
      " 'Hermione ' 'Filch' 'All  ' 'Oliver ' 'Oliver  ' 'Flitwick' 'Draco  '\n",
      " 'Flitwick  ' 'Seamus  ' 'Girl  ' 'Boy  ' 'Percy  ' 'McGonagall '\n",
      " 'Ron and Harry' 'McGonagall  ' 'Quirrell  ' 'Snape  ' 'OIiver  '\n",
      " 'Lee Jordan' 'Hagrid ' 'Gryffindors  ' 'Flint  ' 'Crowd  ' 'Flint'\n",
      " 'Hagrid  ' 'Man  ' 'Lee  Jordan' 'Madam Hooch ' 'Quirrell ' 'Filch  '\n",
      " 'Dumbledore  ' 'Hermoine' 'Ron and Harry  ' 'Filch ' 'Firenze  '\n",
      " 'Firenze ' 'Snape ' 'Neville  ' 'Ron   ' 'Voldemort ' 'Voldemort'\n",
      " 'Voldemort  ' 'Dumbledore ' 'Students']\n"
     ]
    }
   ],
   "source": [
    "get_char_stats(harry_potter1_df,3)"
   ]
  },
  {
   "cell_type": "markdown",
   "metadata": {},
   "source": [
    "*We notice that cleaning up the values will greatly lower the number of characters"
   ]
  },
  {
   "cell_type": "code",
   "execution_count": 36,
   "metadata": {},
   "outputs": [],
   "source": [
    "def clean_df(df):\n",
    "    df.Character = df.Character.str.strip()\n",
    "    df.Character = df.Character.str.upper()\n",
    "    return df"
   ]
  },
  {
   "cell_type": "code",
   "execution_count": 37,
   "metadata": {},
   "outputs": [],
   "source": [
    "harry_potter1_df = clean_df(harry_potter1_df)\n",
    "harry_potter2_df = clean_df(harry_potter2_df)\n",
    "harry_potter3_df = clean_df(harry_potter3_df)"
   ]
  },
  {
   "cell_type": "code",
   "execution_count": 38,
   "metadata": {},
   "outputs": [
    {
     "name": "stdout",
     "output_type": "stream",
     "text": [
      "We have 57 characters as follows for Harry Potter1:\n",
      " ['DUMBLEDORE' 'MCGONAGALL' 'HAGRID' 'PETUNIA' 'DUDLEY' 'VERNON' 'HARRY'\n",
      " 'SNAKE' 'SOMEONE' 'EITHER AN OWL' 'BARKEEP\\xa0TOM' 'MAN' 'WITCH'\n",
      " 'QUIRRELL' 'BOY' 'GOBLIN' 'GRIPHOOK' 'OLLIVANDER' 'TRAINMASTER'\n",
      " 'MRS. WEASLEY' 'GEORGE' 'FRED' 'GINNY' 'RON' 'WOMAN' 'HERMIONE' 'NEVILLE'\n",
      " 'MALFOY' 'WHISPERS' 'SORTING HAT' 'SEAMUS' 'PERCY' 'SIR NICHOLAS' 'GIRL'\n",
      " 'MAN IN PAINT' 'FAT LADY' 'SNAPE' 'DEAN' 'NAN' 'MADAM HOOCH' 'CLASS'\n",
      " 'FILCH' 'ALL' 'OLIVER' 'FLITWICK' 'DRACO' 'RON AND HARRY' 'OIIVER'\n",
      " 'LEE JORDAN' 'GRYFFINDORS' 'FLINT' 'CROWD' 'LEE  JORDAN' 'HERMOINE'\n",
      " 'FIRENZE' 'VOLDEMORT' 'STUDENTS']\n"
     ]
    }
   ],
   "source": [
    "get_char_stats(harry_potter1_df,1)"
   ]
  },
  {
   "cell_type": "code",
   "execution_count": 39,
   "metadata": {},
   "outputs": [
    {
     "name": "stdout",
     "output_type": "stream",
     "text": [
      "We have 57 characters as follows for Harry Potter2:\n",
      " ['DUMBLEDORE' 'MCGONAGALL' 'HAGRID' 'PETUNIA' 'DUDLEY' 'VERNON' 'HARRY'\n",
      " 'SNAKE' 'SOMEONE' 'EITHER AN OWL' 'BARKEEP\\xa0TOM' 'MAN' 'WITCH'\n",
      " 'QUIRRELL' 'BOY' 'GOBLIN' 'GRIPHOOK' 'OLLIVANDER' 'TRAINMASTER'\n",
      " 'MRS. WEASLEY' 'GEORGE' 'FRED' 'GINNY' 'RON' 'WOMAN' 'HERMIONE' 'NEVILLE'\n",
      " 'MALFOY' 'WHISPERS' 'SORTING HAT' 'SEAMUS' 'PERCY' 'SIR NICHOLAS' 'GIRL'\n",
      " 'MAN IN PAINT' 'FAT LADY' 'SNAPE' 'DEAN' 'NAN' 'MADAM HOOCH' 'CLASS'\n",
      " 'FILCH' 'ALL' 'OLIVER' 'FLITWICK' 'DRACO' 'RON AND HARRY' 'OIIVER'\n",
      " 'LEE JORDAN' 'GRYFFINDORS' 'FLINT' 'CROWD' 'LEE  JORDAN' 'HERMOINE'\n",
      " 'FIRENZE' 'VOLDEMORT' 'STUDENTS']\n"
     ]
    }
   ],
   "source": [
    "get_char_stats(harry_potter2_df,2)"
   ]
  },
  {
   "cell_type": "code",
   "execution_count": 40,
   "metadata": {},
   "outputs": [
    {
     "name": "stdout",
     "output_type": "stream",
     "text": [
      "We have 57 characters as follows for Harry Potter3:\n",
      " ['DUMBLEDORE' 'MCGONAGALL' 'HAGRID' 'PETUNIA' 'DUDLEY' 'VERNON' 'HARRY'\n",
      " 'SNAKE' 'SOMEONE' 'EITHER AN OWL' 'BARKEEP\\xa0TOM' 'MAN' 'WITCH'\n",
      " 'QUIRRELL' 'BOY' 'GOBLIN' 'GRIPHOOK' 'OLLIVANDER' 'TRAINMASTER'\n",
      " 'MRS. WEASLEY' 'GEORGE' 'FRED' 'GINNY' 'RON' 'WOMAN' 'HERMIONE' 'NEVILLE'\n",
      " 'MALFOY' 'WHISPERS' 'SORTING HAT' 'SEAMUS' 'PERCY' 'SIR NICHOLAS' 'GIRL'\n",
      " 'MAN IN PAINT' 'FAT LADY' 'SNAPE' 'DEAN' 'NAN' 'MADAM HOOCH' 'CLASS'\n",
      " 'FILCH' 'ALL' 'OLIVER' 'FLITWICK' 'DRACO' 'RON AND HARRY' 'OIIVER'\n",
      " 'LEE JORDAN' 'GRYFFINDORS' 'FLINT' 'CROWD' 'LEE  JORDAN' 'HERMOINE'\n",
      " 'FIRENZE' 'VOLDEMORT' 'STUDENTS']\n"
     ]
    }
   ],
   "source": [
    "get_char_stats(harry_potter3_df,3)"
   ]
  },
  {
   "cell_type": "code",
   "execution_count": 41,
   "metadata": {},
   "outputs": [],
   "source": [
    "def fix_spelling(char):\n",
    "    if char == 'OIIVER':\n",
    "        char = 'OLIVER'\n",
    "    if 'BARKEEP' in char:\n",
    "        char = 'BARKEEP'\n",
    "    return char "
   ]
  },
  {
   "cell_type": "code",
   "execution_count": null,
   "metadata": {},
   "outputs": [],
   "source": [
    "harry_potter1_df.Character = harry_potter1_df.Character.apply(fix_spelling)\n",
    "harry_potter2_df.Character = harry_potter1_df.Character.apply(fix_spelling)\n",
    "harry_potter3_df.Character = harry_potter1_df.Character.apply(fix_spelling)"
   ]
  }
 ],
 "metadata": {
  "kernelspec": {
   "display_name": "Python 3",
   "language": "python",
   "name": "python3"
  },
  "language_info": {
   "codemirror_mode": {
    "name": "ipython",
    "version": 3
   },
   "file_extension": ".py",
   "mimetype": "text/x-python",
   "name": "python",
   "nbconvert_exporter": "python",
   "pygments_lexer": "ipython3",
   "version": "3.8.9"
  }
 },
 "nbformat": 4,
 "nbformat_minor": 4
}
