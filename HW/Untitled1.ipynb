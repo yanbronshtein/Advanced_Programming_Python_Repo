{
 "cells": [
  {
   "cell_type": "code",
   "execution_count": null,
   "metadata": {},
   "outputs": [],
   "source": [
    "text = \"THIS IS THE REPORT I WILL SEND THE PROF\"\n",
    "msg = MIMEMultipart()\n",
    "msg['Subject'] = \"Dow Jones stocks\"\n",
    "\n",
    "msg['From'] = '15jorada@gmail.com'\n",
    "\n",
    "msg['To'] = '15jorada@gmail.com'\n",
    "\n",
    "html = \"\"\"\\\n",
    "<html>\n",
    "  <head></head>\n",
    "    <body>\n",
    "       <p>\n",
    "       \"\"\" + text + \"\"\"\\\n",
    "       </p>   \n",
    "       <img src=\"cid:image1\" alt=\"Logo\"><br>\n",
    "    </body>\n",
    "</html>\n",
    "\"\"\"\n",
    "# Get MIME types\n",
    "mime_types = MIMEText(html, 'html')\n",
    "msg.attach(mime_types)\n",
    "\n",
    "s = smtplib.SMTP(\"smtp.gmail.com\", 587)\n",
    "s.ehlo()\n",
    "s.starttls()\n",
    "s.login('15jorada@gmail.com', 'YOURPASSWORD')\n",
    "s.sendmail('15jorada@gmail.com', 'prof_email', msg.as_string())"
   ]
  }
 ],
 "metadata": {
  "kernelspec": {
   "display_name": "Python 3",
   "language": "python",
   "name": "python3"
  },
  "language_info": {
   "codemirror_mode": {
    "name": "ipython",
    "version": 3
   },
   "file_extension": ".py",
   "mimetype": "text/x-python",
   "name": "python",
   "nbconvert_exporter": "python",
   "pygments_lexer": "ipython3",
   "version": "3.8.9"
  }
 },
 "nbformat": 4,
 "nbformat_minor": 4
}
