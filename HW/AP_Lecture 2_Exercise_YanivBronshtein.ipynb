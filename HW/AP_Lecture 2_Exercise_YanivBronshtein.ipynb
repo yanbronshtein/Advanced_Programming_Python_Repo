{
 "cells": [
  {
   "cell_type": "markdown",
   "metadata": {},
   "source": [
    "## Lecture 2 In Class Exercise"
   ]
  },
  {
   "cell_type": "markdown",
   "metadata": {},
   "source": [
    "# 1. Generating Random Data and Filtering That Data\n"
   ]
  },
  {
   "cell_type": "code",
   "execution_count": 2,
   "metadata": {},
   "outputs": [],
   "source": [
    "import numpy as np\n",
    "np.random.seed(25)\n",
    "ar = np.random.randn(1000)"
   ]
  },
  {
   "cell_type": "markdown",
   "metadata": {},
   "source": [
    "**1.** Multiply all element in AR by 100, display the first 3 elements of ar"
   ]
  },
  {
   "cell_type": "code",
   "execution_count": 4,
   "metadata": {
    "scrolled": true
   },
   "outputs": [
    {
     "name": "stdout",
     "output_type": "stream",
     "text": [
      "[ 0.22827309  1.0268903  -0.83958485]\n"
     ]
    }
   ],
   "source": [
    "print(ar[:3])"
   ]
  },
  {
   "cell_type": "code",
   "execution_count": 11,
   "metadata": {},
   "outputs": [
    {
     "name": "stdout",
     "output_type": "stream",
     "text": [
      "[ 22.82730897 102.68903032 -83.9584849 ]\n"
     ]
    }
   ],
   "source": [
    "ar_m_10 = ar*100\n",
    "print(ar_m_10[:3])"
   ]
  },
  {
   "cell_type": "markdown",
   "metadata": {},
   "source": [
    "**2.** Now convert that matrix into a matrix of 8-bit integers. Display first 3 elements"
   ]
  },
  {
   "cell_type": "code",
   "execution_count": 13,
   "metadata": {},
   "outputs": [
    {
     "name": "stdout",
     "output_type": "stream",
     "text": [
      "[ 22 102 -83]\n"
     ]
    }
   ],
   "source": [
    "ar_8bit = ar_m_10.astype(\"int8\")\n",
    "print(ar_8bit[:3])"
   ]
  },
  {
   "cell_type": "markdown",
   "metadata": {},
   "source": [
    "*the first 3 values should be*\n",
    "\n",
    "```\n",
    " 22,  102,  -83,\n",
    "```\n"
   ]
  },
  {
   "cell_type": "markdown",
   "metadata": {},
   "source": [
    "**3.** Reshape the array into a set of five columns with 200 rows. Replace the original `ar` array with this new matrix."
   ]
  },
  {
   "cell_type": "code",
   "execution_count": 14,
   "metadata": {
    "scrolled": true
   },
   "outputs": [
    {
     "data": {
      "text/plain": [
       "(1000,)"
      ]
     },
     "execution_count": 14,
     "metadata": {},
     "output_type": "execute_result"
    }
   ],
   "source": [
    "ar_8bit.shape"
   ]
  },
  {
   "cell_type": "code",
   "execution_count": 17,
   "metadata": {},
   "outputs": [],
   "source": [
    "ar = ar_8bit.reshape((200,5))"
   ]
  },
  {
   "cell_type": "markdown",
   "metadata": {},
   "source": [
    "**4.** Now that `ar` is a matrix, let's get the maximum and minimum values from the matrix both row wise and column wise. Be sure to remember how many total values you should be outputting - one for every row, then one for each column."
   ]
  },
  {
   "cell_type": "code",
   "execution_count": 22,
   "metadata": {},
   "outputs": [
    {
     "data": {
      "text/plain": [
       "array([ 22, 102, -83, -59, -95], dtype=int8)"
      ]
     },
     "execution_count": 22,
     "metadata": {},
     "output_type": "execute_result"
    }
   ],
   "source": [
    "ar[0]"
   ]
  },
  {
   "cell_type": "code",
   "execution_count": 24,
   "metadata": {},
   "outputs": [
    {
     "name": "stdout",
     "output_type": "stream",
     "text": [
      "Row-wise max:\n",
      "[102  86 123 120  99  59  73  63  68  10 117 118  94  57 112  49 119 104\n",
      " 121  19 102  56 122  17  52  20  54 101  43 -16 112  93  64  59  62  92\n",
      "  63 101  90 120 111  97  64  40  98 106  96  80  71  59  73  24  57  68\n",
      "  65 120 117  94 102  28   2  93  66  58 111  83 126  17 111 111  46  70\n",
      " 121 124  89  98  43  98 106  94 100  78  78  45  71  53   6  86  57 119\n",
      " 125  37  74  72 105  61 116  80 123  41 117  69  71 110 105  91  33 111\n",
      " 125 114 121  44 124 116  28  89  -1  67 124 117 126  45  93 106 100  97\n",
      " 113  64 112  74 118  82 103   1  57 123  50 126 119  24   1 119  80 109\n",
      " 126  85 110  73 115  52 115  62  54  46 102 107 106  68  79  98  98  78\n",
      "  68  58  88  86  52  93  75  81 126 104  94  -9 123 118  65 121  79  18\n",
      "  22  81  48 108 119 116 118  98 121  36 125 -30  87  11  18 114  93  95\n",
      "  -2 127]\n",
      "************************************************************\n",
      "Col-wise max:\n",
      "[123 125 126 126 127]\n",
      "************************************************************\n",
      "Row-wise min:\n",
      "[ -95  -73  -92 -124  -27  -58  -96  -63  -70  -56  -94  -54 -116  -62\n",
      "  -34  -96  -85  -78 -114  -91   43 -114  -60  -65 -126  -30  -77 -115\n",
      " -109  -88 -114  -85  -90 -126  -52  -84 -128  -64 -126 -126 -121  -70\n",
      "  -43  -74 -115 -115 -118  -92  -96 -118  -88  -37 -126 -111  -79  -83\n",
      "  -57 -125 -110  -64 -124   31 -116  -44 -109  -87  -60 -120 -114  -54\n",
      " -110  -37  -61  -50  -65  -70  -12  -18  -20  -77 -104  -65 -117 -110\n",
      "  -97 -109 -127  -51 -127 -117  -39 -121 -117  -46  -31 -125  -77 -112\n",
      "  -97  -92  -77    0   -5  -36  -41   48  -50  -57  -39  -91  -41  -52\n",
      " -122  -30  -52  -78  -91  -40  -83  -30 -106 -112  -93 -117  -29  -97\n",
      " -112 -127 -110  -97  -21  -41 -123  -70 -118  -86   -7  -29  -49  -51\n",
      " -117 -123  -51  -87  -96  -78    6 -111  -52 -117  -89  -57  -44 -117\n",
      "  -96 -125 -118 -120 -112  -96 -115  -59  -90  -90  -60  -95  -95  -21\n",
      " -107  -81  -97  -61 -122 -110  -20  -46 -114 -124 -102 -124 -116  -57\n",
      "  -71   36  -97 -120 -117 -115 -100  -91 -118 -127 -126  -64  -97   -6\n",
      "  -65  -71  -56   17]\n",
      "************************************************************\n",
      "Col-wise min:\n",
      "[-127 -127 -127 -128 -127]\n"
     ]
    }
   ],
   "source": [
    "ar_max_rowwise = ar.max(axis=1)\n",
    "ar_max_colwise = ar.max(axis=0)\n",
    "ar_min_rowwise = ar.min(axis=1)\n",
    "ar_min_colwise = ar.min(axis=0)\n",
    "print(\"Row-wise max:\")\n",
    "print(ar_max_rowwise)\n",
    "print(\"************************************************************\")\n",
    "\n",
    "print(\"Col-wise max:\")\n",
    "print(ar_max_colwise)\n",
    "print(\"************************************************************\")\n",
    "\n",
    "print(\"Row-wise min:\")\n",
    "print(ar_min_rowwise)\n",
    "print(\"************************************************************\")\n",
    "\n",
    "print(\"Col-wise min:\")\n",
    "print(ar_min_colwise)"
   ]
  },
  {
   "cell_type": "markdown",
   "metadata": {},
   "source": [
    "**5.** Now that we have gotten the minimum and maximum values for the columns, get the mean of the entire matrix. (This should be a specific value.)"
   ]
  },
  {
   "cell_type": "code",
   "execution_count": 25,
   "metadata": {},
   "outputs": [
    {
     "name": "stdout",
     "output_type": "stream",
     "text": [
      "ar_mean: -0.791\n"
     ]
    }
   ],
   "source": [
    "ar_mean = ar.mean()\n",
    "print(\"ar_mean:\", ar_mean)"
   ]
  },
  {
   "cell_type": "markdown",
   "metadata": {},
   "source": [
    "**6.** What is the total number of values that are less than the mean?"
   ]
  },
  {
   "cell_type": "code",
   "execution_count": 26,
   "metadata": {},
   "outputs": [
    {
     "name": "stdout",
     "output_type": "stream",
     "text": [
      "Total number of values less than the mean: 494\n"
     ]
    }
   ],
   "source": [
    "num_lt_mean = len(ar[ar < ar_mean])\n",
    "print(\"Total number of values less than the mean:\", num_lt_mean)"
   ]
  },
  {
   "cell_type": "markdown",
   "metadata": {},
   "source": [
    "**7.** What is the total number of values in *each row* that are greater than this mean value? (Remember, if we are doing a row-oriented comparison, how many numbers should be in our output array?)"
   ]
  },
  {
   "cell_type": "code",
   "execution_count": 32,
   "metadata": {},
   "outputs": [
    {
     "data": {
      "text/plain": [
       "array([2, 2, 2, 2, 3, 2, 4, 4, 4, 1, 2, 2, 3, 4, 4, 1, 2, 2, 3, 1, 5, 3,\n",
       "       3, 2, 2, 2, 2, 2, 2, 0, 3, 2, 3, 1, 4, 2, 1, 2, 3, 3, 2, 3, 3, 1,\n",
       "       2, 1, 2, 2, 3, 2, 3, 2, 3, 2, 2, 2, 4, 3, 2, 2, 1, 5, 2, 4, 3, 3,\n",
       "       3, 1, 2, 4, 1, 4, 4, 3, 3, 1, 3, 4, 3, 4, 2, 3, 3, 4, 2, 2, 1, 3,\n",
       "       1, 2, 4, 1, 1, 4, 2, 4, 2, 2, 2, 1, 2, 5, 4, 3, 4, 5, 2, 4, 4, 2,\n",
       "       4, 3, 3, 4, 1, 2, 0, 3, 2, 4, 3, 3, 3, 2, 4, 2, 3, 1, 2, 4, 4, 2,\n",
       "       4, 1, 1, 3, 4, 2, 3, 1, 1, 2, 2, 4, 2, 2, 5, 2, 4, 1, 2, 3, 2, 2,\n",
       "       4, 1, 3, 1, 4, 2, 2, 3, 1, 2, 3, 3, 3, 4, 3, 2, 3, 3, 3, 0, 3, 3,\n",
       "       1, 2, 3, 1, 1, 4, 3, 5, 3, 4, 2, 1, 3, 2, 2, 0, 1, 1, 3, 3, 3, 3,\n",
       "       0, 5])"
      ]
     },
     "execution_count": 32,
     "metadata": {},
     "output_type": "execute_result"
    }
   ],
   "source": [
    "def my_func(row):\n",
    "    return len(row[row > ar_mean])\n",
    "filtered_arr = np.apply_along_axis(my_func, 1, ar)\n",
    "# num_gt_mean_byrow = np.apply_along_axis(len, 1, ar[ar > ar_mean])\n",
    "filtered_arr"
   ]
  },
  {
   "cell_type": "markdown",
   "metadata": {},
   "source": [
    "**8.** How many zeros are in the matrix that we have?"
   ]
  },
  {
   "cell_type": "code",
   "execution_count": 38,
   "metadata": {},
   "outputs": [
    {
     "data": {
      "text/plain": [
       "8"
      ]
     },
     "execution_count": 38,
     "metadata": {},
     "output_type": "execute_result"
    }
   ],
   "source": [
    "len(ar[ar == 0])"
   ]
  },
  {
   "cell_type": "markdown",
   "metadata": {},
   "source": [
    "**9.** Lastly, sum all the values that are either greater than 100 or are less than 5"
   ]
  },
  {
   "cell_type": "code",
   "execution_count": 43,
   "metadata": {},
   "outputs": [
    {
     "data": {
      "text/plain": [
       "-20589"
      ]
     },
     "execution_count": 43,
     "metadata": {},
     "output_type": "execute_result"
    }
   ],
   "source": [
    "ar[ar > 100].sum() + ar[ar < 5].sum()"
   ]
  },
  {
   "cell_type": "markdown",
   "metadata": {},
   "source": [
    "# 2. More NumPy Basics"
   ]
  },
  {
   "cell_type": "markdown",
   "metadata": {},
   "source": [
    "Using NumPy to do the following and display result for each step\n",
    "1. Create a dataset of 50 random integers ranging from 0 and 100.\n",
    "2. Reshape the data to be 10x5.\n",
    "3. Create a dataset of 50 numbers between 0 and 100 using linspace()\n",
    "4. Reshape the data to be 10x5.\n",
    "5. Use vstack to stack the data for the two arrays call it \"vertstk\"\n",
    "6. Use hstack to stack the data for the two arrays call it \"hozstk\"\n",
    "7. for each array divide each element by 2:<br>\n",
    "    a. Use a functional approach (such as map or filter) for hozstk and a vectorized approach for vertstk<br>\n",
    "    b. for an extra challenge replace all values greater than 25 with 25\n",
    "8. get column and row means for hozstk and vertstk"
   ]
  },
  {
   "cell_type": "code",
   "execution_count": 59,
   "metadata": {},
   "outputs": [],
   "source": [
    "np.random.seed(100)\n",
    "data = np.random.randint(low=0, high=101, size=50).reshape((10,5))"
   ]
  },
  {
   "cell_type": "code",
   "execution_count": 60,
   "metadata": {},
   "outputs": [
    {
     "data": {
      "text/plain": [
       "array([[  8,  24,  67,  87,  79],\n",
       "       [ 48,  10,  94,  52,  98],\n",
       "       [ 53,  66,  98,  14,  34],\n",
       "       [ 24,  15, 100,  60,  58],\n",
       "       [ 16,   9,  93,  86,   2],\n",
       "       [ 27,   4,  31,   1,  13],\n",
       "       [ 83, 100,   4,  91,  59],\n",
       "       [ 67,   7,  49,  47,  65],\n",
       "       [ 61,  14,  55,  71,  80],\n",
       "       [  2,  94,  19,  98,  63]])"
      ]
     },
     "execution_count": 60,
     "metadata": {},
     "output_type": "execute_result"
    }
   ],
   "source": [
    "data"
   ]
  },
  {
   "cell_type": "code",
   "execution_count": 64,
   "metadata": {},
   "outputs": [],
   "source": [
    "data_linspace = np.linspace(start=0, stop=100, num=50).reshape((10,5))"
   ]
  },
  {
   "cell_type": "code",
   "execution_count": 73,
   "metadata": {},
   "outputs": [
    {
     "data": {
      "text/plain": [
       "array([[  0.        ,   2.04081633,   4.08163265,   6.12244898,\n",
       "          8.16326531],\n",
       "       [ 10.20408163,  12.24489796,  14.28571429,  16.32653061,\n",
       "         18.36734694],\n",
       "       [ 20.40816327,  22.44897959,  24.48979592,  26.53061224,\n",
       "         28.57142857],\n",
       "       [ 30.6122449 ,  32.65306122,  34.69387755,  36.73469388,\n",
       "         38.7755102 ],\n",
       "       [ 40.81632653,  42.85714286,  44.89795918,  46.93877551,\n",
       "         48.97959184],\n",
       "       [ 51.02040816,  53.06122449,  55.10204082,  57.14285714,\n",
       "         59.18367347],\n",
       "       [ 61.2244898 ,  63.26530612,  65.30612245,  67.34693878,\n",
       "         69.3877551 ],\n",
       "       [ 71.42857143,  73.46938776,  75.51020408,  77.55102041,\n",
       "         79.59183673],\n",
       "       [ 81.63265306,  83.67346939,  85.71428571,  87.75510204,\n",
       "         89.79591837],\n",
       "       [ 91.83673469,  93.87755102,  95.91836735,  97.95918367,\n",
       "        100.        ]])"
      ]
     },
     "execution_count": 73,
     "metadata": {},
     "output_type": "execute_result"
    }
   ],
   "source": [
    "data_linspace"
   ]
  },
  {
   "cell_type": "code",
   "execution_count": 74,
   "metadata": {},
   "outputs": [
    {
     "data": {
      "text/plain": [
       "array([[  8.        ,  24.        ,  67.        ,  87.        ,\n",
       "         79.        ],\n",
       "       [ 48.        ,  10.        ,  94.        ,  52.        ,\n",
       "         98.        ],\n",
       "       [ 53.        ,  66.        ,  98.        ,  14.        ,\n",
       "         34.        ],\n",
       "       [ 24.        ,  15.        , 100.        ,  60.        ,\n",
       "         58.        ],\n",
       "       [ 16.        ,   9.        ,  93.        ,  86.        ,\n",
       "          2.        ],\n",
       "       [ 27.        ,   4.        ,  31.        ,   1.        ,\n",
       "         13.        ],\n",
       "       [ 83.        , 100.        ,   4.        ,  91.        ,\n",
       "         59.        ],\n",
       "       [ 67.        ,   7.        ,  49.        ,  47.        ,\n",
       "         65.        ],\n",
       "       [ 61.        ,  14.        ,  55.        ,  71.        ,\n",
       "         80.        ],\n",
       "       [  2.        ,  94.        ,  19.        ,  98.        ,\n",
       "         63.        ],\n",
       "       [  0.        ,   2.04081633,   4.08163265,   6.12244898,\n",
       "          8.16326531],\n",
       "       [ 10.20408163,  12.24489796,  14.28571429,  16.32653061,\n",
       "         18.36734694],\n",
       "       [ 20.40816327,  22.44897959,  24.48979592,  26.53061224,\n",
       "         28.57142857],\n",
       "       [ 30.6122449 ,  32.65306122,  34.69387755,  36.73469388,\n",
       "         38.7755102 ],\n",
       "       [ 40.81632653,  42.85714286,  44.89795918,  46.93877551,\n",
       "         48.97959184],\n",
       "       [ 51.02040816,  53.06122449,  55.10204082,  57.14285714,\n",
       "         59.18367347],\n",
       "       [ 61.2244898 ,  63.26530612,  65.30612245,  67.34693878,\n",
       "         69.3877551 ],\n",
       "       [ 71.42857143,  73.46938776,  75.51020408,  77.55102041,\n",
       "         79.59183673],\n",
       "       [ 81.63265306,  83.67346939,  85.71428571,  87.75510204,\n",
       "         89.79591837],\n",
       "       [ 91.83673469,  93.87755102,  95.91836735,  97.95918367,\n",
       "        100.        ]])"
      ]
     },
     "execution_count": 74,
     "metadata": {},
     "output_type": "execute_result"
    }
   ],
   "source": [
    "vertstk = np.vstack((data, data_linspace))\n",
    "vertstk"
   ]
  },
  {
   "cell_type": "code",
   "execution_count": 75,
   "metadata": {},
   "outputs": [
    {
     "data": {
      "text/plain": [
       "array([[  8.        ,  24.        ,  67.        ,  87.        ,\n",
       "         79.        ,   0.        ,   2.04081633,   4.08163265,\n",
       "          6.12244898,   8.16326531],\n",
       "       [ 48.        ,  10.        ,  94.        ,  52.        ,\n",
       "         98.        ,  10.20408163,  12.24489796,  14.28571429,\n",
       "         16.32653061,  18.36734694],\n",
       "       [ 53.        ,  66.        ,  98.        ,  14.        ,\n",
       "         34.        ,  20.40816327,  22.44897959,  24.48979592,\n",
       "         26.53061224,  28.57142857],\n",
       "       [ 24.        ,  15.        , 100.        ,  60.        ,\n",
       "         58.        ,  30.6122449 ,  32.65306122,  34.69387755,\n",
       "         36.73469388,  38.7755102 ],\n",
       "       [ 16.        ,   9.        ,  93.        ,  86.        ,\n",
       "          2.        ,  40.81632653,  42.85714286,  44.89795918,\n",
       "         46.93877551,  48.97959184],\n",
       "       [ 27.        ,   4.        ,  31.        ,   1.        ,\n",
       "         13.        ,  51.02040816,  53.06122449,  55.10204082,\n",
       "         57.14285714,  59.18367347],\n",
       "       [ 83.        , 100.        ,   4.        ,  91.        ,\n",
       "         59.        ,  61.2244898 ,  63.26530612,  65.30612245,\n",
       "         67.34693878,  69.3877551 ],\n",
       "       [ 67.        ,   7.        ,  49.        ,  47.        ,\n",
       "         65.        ,  71.42857143,  73.46938776,  75.51020408,\n",
       "         77.55102041,  79.59183673],\n",
       "       [ 61.        ,  14.        ,  55.        ,  71.        ,\n",
       "         80.        ,  81.63265306,  83.67346939,  85.71428571,\n",
       "         87.75510204,  89.79591837],\n",
       "       [  2.        ,  94.        ,  19.        ,  98.        ,\n",
       "         63.        ,  91.83673469,  93.87755102,  95.91836735,\n",
       "         97.95918367, 100.        ]])"
      ]
     },
     "execution_count": 75,
     "metadata": {},
     "output_type": "execute_result"
    }
   ],
   "source": [
    "hozstk = np.hstack((data, data_linspace))\n",
    "hozstk"
   ]
  },
  {
   "cell_type": "code",
   "execution_count": 77,
   "metadata": {},
   "outputs": [
    {
     "data": {
      "text/plain": [
       "array([[ 4.        , 12.        , 33.5       , 43.5       , 39.5       ],\n",
       "       [24.        ,  5.        , 47.        , 26.        , 49.        ],\n",
       "       [26.5       , 33.        , 49.        ,  7.        , 17.        ],\n",
       "       [12.        ,  7.5       , 50.        , 30.        , 29.        ],\n",
       "       [ 8.        ,  4.5       , 46.5       , 43.        ,  1.        ],\n",
       "       [13.5       ,  2.        , 15.5       ,  0.5       ,  6.5       ],\n",
       "       [41.5       , 50.        ,  2.        , 45.5       , 29.5       ],\n",
       "       [33.5       ,  3.5       , 24.5       , 23.5       , 32.5       ],\n",
       "       [30.5       ,  7.        , 27.5       , 35.5       , 40.        ],\n",
       "       [ 1.        , 47.        ,  9.5       , 49.        , 31.5       ],\n",
       "       [ 0.        ,  1.02040816,  2.04081633,  3.06122449,  4.08163265],\n",
       "       [ 5.10204082,  6.12244898,  7.14285714,  8.16326531,  9.18367347],\n",
       "       [10.20408163, 11.2244898 , 12.24489796, 13.26530612, 14.28571429],\n",
       "       [15.30612245, 16.32653061, 17.34693878, 18.36734694, 19.3877551 ],\n",
       "       [20.40816327, 21.42857143, 22.44897959, 23.46938776, 24.48979592],\n",
       "       [25.51020408, 26.53061224, 27.55102041, 28.57142857, 29.59183673],\n",
       "       [30.6122449 , 31.63265306, 32.65306122, 33.67346939, 34.69387755],\n",
       "       [35.71428571, 36.73469388, 37.75510204, 38.7755102 , 39.79591837],\n",
       "       [40.81632653, 41.83673469, 42.85714286, 43.87755102, 44.89795918],\n",
       "       [45.91836735, 46.93877551, 47.95918367, 48.97959184, 50.        ]])"
      ]
     },
     "execution_count": 77,
     "metadata": {},
     "output_type": "execute_result"
    }
   ],
   "source": [
    "vert_div2 = vertstk/2\n",
    "vert_div2"
   ]
  },
  {
   "cell_type": "code",
   "execution_count": 81,
   "metadata": {},
   "outputs": [
    {
     "data": {
      "text/plain": [
       "array([[ 4.        , 12.        , 33.5       , 43.5       , 39.5       ,\n",
       "         0.        ,  1.02040816,  2.04081633,  3.06122449,  4.08163265],\n",
       "       [24.        ,  5.        , 47.        , 26.        , 49.        ,\n",
       "         5.10204082,  6.12244898,  7.14285714,  8.16326531,  9.18367347],\n",
       "       [26.5       , 33.        , 49.        ,  7.        , 17.        ,\n",
       "        10.20408163, 11.2244898 , 12.24489796, 13.26530612, 14.28571429],\n",
       "       [12.        ,  7.5       , 50.        , 30.        , 29.        ,\n",
       "        15.30612245, 16.32653061, 17.34693878, 18.36734694, 19.3877551 ],\n",
       "       [ 8.        ,  4.5       , 46.5       , 43.        ,  1.        ,\n",
       "        20.40816327, 21.42857143, 22.44897959, 23.46938776, 24.48979592],\n",
       "       [13.5       ,  2.        , 15.5       ,  0.5       ,  6.5       ,\n",
       "        25.51020408, 26.53061224, 27.55102041, 28.57142857, 29.59183673],\n",
       "       [41.5       , 50.        ,  2.        , 45.5       , 29.5       ,\n",
       "        30.6122449 , 31.63265306, 32.65306122, 33.67346939, 34.69387755],\n",
       "       [33.5       ,  3.5       , 24.5       , 23.5       , 32.5       ,\n",
       "        35.71428571, 36.73469388, 37.75510204, 38.7755102 , 39.79591837],\n",
       "       [30.5       ,  7.        , 27.5       , 35.5       , 40.        ,\n",
       "        40.81632653, 41.83673469, 42.85714286, 43.87755102, 44.89795918],\n",
       "       [ 1.        , 47.        ,  9.5       , 49.        , 31.5       ,\n",
       "        45.91836735, 46.93877551, 47.95918367, 48.97959184, 50.        ]])"
      ]
     },
     "execution_count": 81,
     "metadata": {},
     "output_type": "execute_result"
    }
   ],
   "source": [
    "hoz_div2 = np.array(list(map(lambda x: x / 2, hozstk)))\n",
    "hoz_div2"
   ]
  },
  {
   "cell_type": "code",
   "execution_count": 84,
   "metadata": {},
   "outputs": [
    {
     "name": "stdout",
     "output_type": "stream",
     "text": [
      "Row-wise mean for hozstk:\n",
      "[14.27040816 18.67142857 19.37244898 21.52346939 21.5244898  17.5755102\n",
      " 33.17653061 30.62755102 35.47857143 37.77959184]\n",
      "************************************************************\n",
      "Col-wise mean for hozstk:\n",
      "[19.45       17.15       30.5        30.35       27.55       22.95918367\n",
      " 23.97959184 25.         26.02040816 27.04081633]\n",
      "************************************************************\n",
      "Row-wise mean for vertstk:\n",
      "[26.5        30.2        26.5        25.7        20.6         7.6\n",
      " 33.7        23.5        28.1        27.6         2.04081633  7.14285714\n",
      " 12.24489796 17.34693878 22.44897959 27.55102041 32.65306122 37.75510204\n",
      " 42.85714286 47.95918367]\n",
      "************************************************************\n",
      "Col-wise mean for vertstk:\n",
      "[21.20459184 20.56479592 27.75       28.18520408 27.29540816]\n"
     ]
    }
   ],
   "source": [
    "hoz_rowmeans = hoz_div2.mean(axis=1)\n",
    "hoz_colmeans = hoz_div2.mean(axis=0)\n",
    "vert_rowmeans = vert_div2.mean(axis=1)\n",
    "vert_colmeans = vert_div2.mean(axis=0)\n",
    "\n",
    "print(\"Row-wise mean for hozstk:\")\n",
    "print(hoz_rowmeans)\n",
    "print(\"************************************************************\")\n",
    "\n",
    "print(\"Col-wise mean for hozstk:\")\n",
    "print(hoz_colmeans)\n",
    "print(\"************************************************************\")\n",
    "\n",
    "print(\"Row-wise mean for vertstk:\")\n",
    "print(vert_rowmeans)\n",
    "print(\"************************************************************\")\n",
    "\n",
    "print(\"Col-wise mean for vertstk:\")\n",
    "print(vert_colmeans)"
   ]
  },
  {
   "cell_type": "markdown",
   "metadata": {},
   "source": []
  },
  {
   "cell_type": "markdown",
   "metadata": {},
   "source": []
  },
  {
   "cell_type": "code",
   "execution_count": null,
   "metadata": {},
   "outputs": [],
   "source": []
  }
 ],
 "metadata": {
  "kernelspec": {
   "display_name": "Python 3",
   "language": "python",
   "name": "python3"
  },
  "language_info": {
   "codemirror_mode": {
    "name": "ipython",
    "version": 3
   },
   "file_extension": ".py",
   "mimetype": "text/x-python",
   "name": "python",
   "nbconvert_exporter": "python",
   "pygments_lexer": "ipython3",
   "version": "3.8.9"
  }
 },
 "nbformat": 4,
 "nbformat_minor": 1
}
