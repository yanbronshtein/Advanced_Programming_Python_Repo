{
 "cells": [
  {
   "cell_type": "markdown",
   "metadata": {},
   "source": [
    "# Lecture 7 (Week 10) Exercise / Homework #3"
   ]
  },
  {
   "cell_type": "markdown",
   "metadata": {},
   "source": [
    "For this assignment, you will learn about two new libraries, pyttsx3 and speech_recognition, and use voice recognition to obtain weather info <br />\n",
    "\n",
    "**pyttsx3** - https://pypi.org/project/pyttsx3/ <br />\n",
    "**speech_recognition** - https://pypi.org/project/SpeechRecognition/ <br />\n",
    "\n",
    "**pyAudio** - PyAudio‑0.2.11‑cp38‑cp38‑win_amd64.whl <br />\n",
    "Use following stackoverflow post to troubleshoot if needed \n",
    "https://stackoverflow.com/questions/61290821/error-command-errored-out-with-exit-status-1-while-installing-pyaudio"
   ]
  },
  {
   "cell_type": "markdown",
   "metadata": {},
   "source": [
    "First, try to import the two libraries to see if can import the modules, if not, you need to do pip install to have them installed through terminal (MAC) or command line (MS)"
   ]
  },
  {
   "cell_type": "code",
   "execution_count": null,
   "metadata": {},
   "outputs": [],
   "source": [
    "import pyttsx3\n",
    "import speech_recognition as sr"
   ]
  },
  {
   "cell_type": "markdown",
   "metadata": {},
   "source": [
    "Try out the test script from ptytsx3 website, see if it runs, did you hear the computer speak?"
   ]
  },
  {
   "cell_type": "code",
   "execution_count": null,
   "metadata": {},
   "outputs": [],
   "source": [
    "engine = pyttsx3.init()\n",
    "spell=\"Wingardium Leviosa!\"\n",
    "engine.say(spell)\n",
    "engine.runAndWait()"
   ]
  },
  {
   "cell_type": "markdown",
   "metadata": {},
   "source": [
    "Based on website description, see if you can make engine speak in female voice (**hint:** try voices 1, and 10)"
   ]
  },
  {
   "cell_type": "code",
   "execution_count": null,
   "metadata": {},
   "outputs": [],
   "source": [
    "voices = engine.getProperty('voices') \n",
    "engine.setProperty('voice', voices[10].id)  \n",
    "engine.say(spell)\n",
    "engine.runAndWait()"
   ]
  },
  {
   "cell_type": "markdown",
   "metadata": {},
   "source": [
    "Check your microphone"
   ]
  },
  {
   "cell_type": "code",
   "execution_count": null,
   "metadata": {},
   "outputs": [],
   "source": [
    "for index, name in enumerate(sr.Microphone.list_microphone_names()):\n",
    "    print(f'{index}, {name}')"
   ]
  },
  {
   "cell_type": "markdown",
   "metadata": {},
   "source": [
    "Now let's try listening, try to speak to it, does it provide correct return?\n",
    "**Note:** only talk to the computer after \"listening\" is printed"
   ]
  },
  {
   "cell_type": "code",
   "execution_count": null,
   "metadata": {},
   "outputs": [],
   "source": [
    "##Make sure you install pyaudio first!!\n",
    "\n",
    "listener = sr.Recognizer()\n",
    "\n",
    "try:\n",
    "    with sr.Microphone(device_index = 0) as source:\n",
    "        print('listening...')\n",
    "        voice = listener.listen(source, timeout=4) ##timeout after 2 seconds\n",
    "        command = listener.recognize_google(voice, language = 'it-IT')\n",
    "        print(command)\n",
    "except:\n",
    "    print(\"Nothing is Captured\")"
   ]
  },
  {
   "cell_type": "code",
   "execution_count": null,
   "metadata": {},
   "outputs": [],
   "source": [
    "##Make sure you install pyaudio first!!\n",
    "\n",
    "listener = sr.Recognizer()\n",
    "\n",
    "try:\n",
    "    with sr.Microphone(device_index = 0) as source:\n",
    "        print('listening...')\n",
    "        voice = listener.listen(source, timeout=4) ##timeout after 2 seconds\n",
    "        command = listener.recognize_google(voice, language = 'us-eng')\n",
    "        print(command)\n",
    "except:\n",
    "    print(\"Nothing is Captured\")"
   ]
  },
  {
   "cell_type": "markdown",
   "metadata": {},
   "source": [
    "Now you can get Python to both listen and talk, let's leverage what we learned in class and have computer tell us weather of a city\n",
    "for the first test, let's only worry about the \"happy path\", don't worry about error for now\n",
    "1. Computer initiate by asking what city you are looking for?\n",
    "2. User provide a city\n",
    "3. Computer ask for state abbreviation\n",
    "4. User provide state abrreviation \n",
    "5. System reads out weather description, temperature and feels like (all part of json readout) "
   ]
  },
  {
   "cell_type": "code",
   "execution_count": null,
   "metadata": {},
   "outputs": [],
   "source": [
    "from urllib.request import urlopen  ##import a function\n",
    "import json"
   ]
  },
  {
   "cell_type": "markdown",
   "metadata": {},
   "source": [
    "1. Computer initiate by asking what city you are looking for?"
   ]
  },
  {
   "cell_type": "code",
   "execution_count": null,
   "metadata": {},
   "outputs": [],
   "source": [
    "engine = pyttsx3.init()\n",
    "prompt_city = \"Good evening Yaniv, what city would you like to know the weather for?\"\n",
    "engine.say(prompt_city)\n",
    "engine.runAndWait()"
   ]
  },
  {
   "cell_type": "markdown",
   "metadata": {},
   "source": [
    "2. User provide a city"
   ]
  },
  {
   "cell_type": "code",
   "execution_count": null,
   "metadata": {},
   "outputs": [],
   "source": [
    "##Make sure you install pyaudio first!!\n",
    "\n",
    "listener = sr.Recognizer()\n",
    "city = ''\n",
    "try:\n",
    "    with sr.Microphone(device_index = 0) as source:\n",
    "        print('listening...')\n",
    "        voice = listener.listen(source, timeout=6) ##timeout after 6 seconds\n",
    "        city = listener.recognize_google(voice, language = 'us-eng')\n",
    "        print(city)\n",
    "except:\n",
    "    print(\"Nothing is Captured\")"
   ]
  },
  {
   "cell_type": "markdown",
   "metadata": {},
   "source": [
    "3. Computer ask for state abbreviation"
   ]
  },
  {
   "cell_type": "code",
   "execution_count": null,
   "metadata": {},
   "outputs": [],
   "source": [
    "prompt_state_abv = \"Thank you Yaniv. What is the state abbreviation for \" + city\n",
    "engine = pyttsx3.init()\n",
    "engine.say(prompt_state_abv)\n",
    "engine.runAndWait()"
   ]
  },
  {
   "cell_type": "markdown",
   "metadata": {},
   "source": [
    "4. User provide state abrreviation "
   ]
  },
  {
   "cell_type": "code",
   "execution_count": null,
   "metadata": {},
   "outputs": [],
   "source": [
    "state_abv = ''\n",
    "listener = sr.Recognizer()\n",
    "try:\n",
    "    with sr.Microphone(device_index = 0) as source:\n",
    "        print('listening...')\n",
    "        voice = listener.listen(source, timeout=6) ##timeout after 2 seconds\n",
    "        state_abv = listener.recognize_google(voice, language = 'us-eng')\n",
    "        print(state_abv)\n",
    "except:\n",
    "    print(\"Nothing is Captured\")"
   ]
  },
  {
   "cell_type": "code",
   "execution_count": null,
   "metadata": {},
   "outputs": [],
   "source": [
    "state_abv = ''\n",
    "listener = sr.Recognizer()\n",
    "try:\n",
    "    with sr.Microphone(device_index = 0) as source:\n",
    "        print('listening...')\n",
    "        voice = listener.listen(source, timeout=6) ##timeout after 6 seconds\n",
    "        state_abv = listener.recognize_google(voice, language = 'us-eng')\n",
    "        print(state_abv)\n",
    "except:\n",
    "    print(\"Nothing is Captured\")"
   ]
  },
  {
   "cell_type": "code",
   "execution_count": null,
   "metadata": {},
   "outputs": [],
   "source": [
    "state_abv = ''\n",
    "listener = sr.Recognizer()\n",
    "try:\n",
    "    with sr.Microphone(device_index = 0) as source:\n",
    "        print('listening...')\n",
    "        voice = listener.listen(source, timeout=6) ##timeout after 6 seconds\n",
    "        state_abv = listener.recognize_google(voice, language = 'us-eng')\n",
    "        print(state_abv)\n",
    "except:\n",
    "    print(\"Nothing is Captured\")"
   ]
  },
  {
   "cell_type": "markdown",
   "metadata": {},
   "source": [
    "5. System reads out weather description, temperature and feels like (all part of json readout) "
   ]
  },
  {
   "cell_type": "code",
   "execution_count": null,
   "metadata": {},
   "outputs": [],
   "source": [
    "api_key = '09f706cb90f6cc9bf11e5e4bc021a030'"
   ]
  },
  {
   "cell_type": "code",
   "execution_count": null,
   "metadata": {},
   "outputs": [],
   "source": [
    "api_key"
   ]
  },
  {
   "cell_type": "code",
   "execution_count": null,
   "metadata": {},
   "outputs": [],
   "source": [
    "response = urlopen(f\"http://api.openweathermap.org/data/2.5/weather?q=paoli,pa,US&appid={api_key}\")\n",
    "rawWeatherData = response.read().decode(\"utf-8\") ##read into text\n",
    "weatherData = json.loads(rawWeatherData)"
   ]
  },
  {
   "cell_type": "code",
   "execution_count": null,
   "metadata": {},
   "outputs": [],
   "source": [
    "api_key = '09f706cb90f6cc9bf11e5e4bc021a030'\n",
    "city = '+'.join(city.lower().split())\n",
    "print(city)\n",
    "state_abv = state_abv.lower()"
   ]
  },
  {
   "cell_type": "code",
   "execution_count": null,
   "metadata": {},
   "outputs": [],
   "source": [
    "my_url = f\"http://api.openweathermap.org/data/2.5/weather?q={city},{state_abv},US&appid={api_key}\""
   ]
  },
  {
   "cell_type": "code",
   "execution_count": null,
   "metadata": {},
   "outputs": [],
   "source": [
    "print(my_url)"
   ]
  },
  {
   "cell_type": "code",
   "execution_count": null,
   "metadata": {},
   "outputs": [],
   "source": [
    "response = urlopen(my_url)\n",
    "rawWeatherData = response.read().decode(\"utf-8\") ##read into text\n",
    "weatherData = json.loads(rawWeatherData)"
   ]
  },
  {
   "cell_type": "code",
   "execution_count": null,
   "metadata": {},
   "outputs": [],
   "source": [
    "weatherData"
   ]
  },
  {
   "cell_type": "code",
   "execution_count": null,
   "metadata": {},
   "outputs": [],
   "source": [
    "description = weatherData['weather'][0]['description']"
   ]
  },
  {
   "cell_type": "code",
   "execution_count": null,
   "metadata": {},
   "outputs": [],
   "source": [
    "print(description)"
   ]
  },
  {
   "cell_type": "code",
   "execution_count": null,
   "metadata": {},
   "outputs": [],
   "source": [
    "def get_temp(K):\n",
    "    C = K - 273\n",
    "    F = 1.8*C + 32\n",
    "    return F"
   ]
  },
  {
   "cell_type": "code",
   "execution_count": null,
   "metadata": {},
   "outputs": [],
   "source": [
    "readings = weatherData['main']"
   ]
  },
  {
   "cell_type": "code",
   "execution_count": null,
   "metadata": {},
   "outputs": [],
   "source": [
    "vals = []\n",
    "i=0\n",
    "for field in readings:\n",
    "    if i < 4:\n",
    "        val = get_temp(readings[field])\n",
    "    else:\n",
    "        val = readings[field]\n",
    "    vals.append(val)\n",
    "    i += 1"
   ]
  },
  {
   "cell_type": "code",
   "execution_count": null,
   "metadata": {},
   "outputs": [],
   "source": [
    "vals"
   ]
  },
  {
   "cell_type": "code",
   "execution_count": null,
   "metadata": {},
   "outputs": [],
   "source": [
    "description_readout = \"We expect {}.\\n\".format(description)\n",
    "temp_readout = \"\"\"We have the following four temperatures in degrees fahrenheit:\n",
    "actual: {},\n",
    "feels like: {}.\n",
    "The low temperature for today is {} and the high temperature is {}.\n",
    "The pressure is {} hPa.\n",
    "The humidity is {} percent.\n",
    "\"\"\".format(*vals)\n",
    "full_report = description_readout + temp_readout\n",
    "print(full_report)"
   ]
  },
  {
   "cell_type": "code",
   "execution_count": null,
   "metadata": {},
   "outputs": [],
   "source": [
    "temp_K_actual = weatherData['main']['temp']\n",
    "temp_actual = get_temp(temp_K_actual)\n",
    "temp_K_feels = weatherData['main']['feels_like']\n",
    "temp_feels = get_temp(temp_K_actual)\n",
    "te\n",
    "print(temp_actual)"
   ]
  },
  {
   "cell_type": "code",
   "execution_count": null,
   "metadata": {},
   "outputs": [],
   "source": [
    "def record():\n",
    "    captured_text = ''\n",
    "    try:\n",
    "        with sr.Microphone(device_index = 0) as source:\n",
    "            print('listening...')\n",
    "            voice = listener.listen(source, timeout=6) ##timeout after 6 seconds\n",
    "            captured_text = listener.recognize_google(voice, language = 'us-eng')\n",
    "            print(state_abv)\n",
    "    except:\n",
    "        print(\"Nothing is Captured\")\n",
    "    return captured_text\n"
   ]
  },
  {
   "cell_type": "code",
   "execution_count": null,
   "metadata": {},
   "outputs": [],
   "source": [
    "def ai_speaks(prompt):\n",
    "    engine = pyttsx3.init()\n",
    "    engine.say(prompt)\n",
    "    engine.runAndWait()"
   ]
  },
  {
   "cell_type": "code",
   "execution_count": null,
   "metadata": {},
   "outputs": [],
   "source": [
    "def get_temp(K):\n",
    "    C = K - 273\n",
    "    F = 1.8*C + 32\n",
    "    return F"
   ]
  },
  {
   "cell_type": "code",
   "execution_count": null,
   "metadata": {},
   "outputs": [],
   "source": [
    "def get_weather_report(city, stat_abv):\n",
    "    \n",
    "    # Get weather data dictionary\n",
    "    api_key = '09f706cb90f6cc9bf11e5e4bc021a030'\n",
    "    city = '+'.join(city.lower().split())\n",
    "    state_abv = state_abv.lower()\n",
    "    my_url = f\"http://api.openweathermap.org/data/2.5/weather?q={city},{state_abv},US&appid={api_key}\"\n",
    "    response = urlopen(my_url)\n",
    "    rawWeatherData = response.read().decode(\"utf-8\") ##read into text\n",
    "    weatherData = json.loads(rawWeatherData)\n",
    "    \n",
    "    # generate weather report\n",
    "    description = weatherData['weather'][0]['description']\n",
    "    readings = weatherData['main']\n",
    "    vals = []\n",
    "    i=0\n",
    "    \n",
    "    for field in readings:\n",
    "        if i < 4:\n",
    "            val = get_temp(readings[field])\n",
    "        else:\n",
    "            val = readings[field]\n",
    "        vals.append(val)\n",
    "        i += 1\n",
    "        \n",
    "    description_readout = \"We expect {}.\\n\".format(description)\n",
    "    temp_readout = \"\"\"We have the following four temperatures in degrees fahrenheit:\n",
    "    actual: {},\n",
    "    feels like: {}.\n",
    "    The low temperature for today is {} and the high temperature is {}.\n",
    "    The pressure is {} hPa.\n",
    "    The humidity is {} percent.\n",
    "    \"\"\".format(*vals)\n",
    "    full_report = description_readout + temp_readout\n",
    "    return full_report\n",
    "    \n",
    "    \n",
    "    \n",
    "    \n",
    "    "
   ]
  },
  {
   "cell_type": "code",
   "execution_count": null,
   "metadata": {},
   "outputs": [],
   "source": [
    "def get_weather():\n",
    "    city = state_abv = ''\n",
    "    while(True):\n",
    "        ai_speaks(\"What city would you like to know the weather for?\")\n",
    "        city = record()\n",
    "        ai_speaks(f\"Is the city {city} correct?\")\n",
    "        yes_no = record()\n",
    "        if yes_no == 'yes':\n",
    "            break\n",
    "    while(True):\n",
    "        ai_speaks(f\"What is the two letter state abbreviation for {response}?\")\n",
    "        state_abv = record()\n",
    "        ai_speaks(f\"Is the state abbreviation {city} correct?\")\n",
    "        yes_no = record()\n",
    "        if yes_no == 'yes':\n",
    "            break\n",
    "    \n",
    "    full_report = get_weather_report(city,state_abv)\n",
    "    ai_speaks(full_report)\n",
    "    \n",
    "    \n",
    "        \n",
    "\n",
    "        \n",
    "        "
   ]
  },
  {
   "cell_type": "code",
   "execution_count": null,
   "metadata": {},
   "outputs": [
    {
     "name": "stdout",
     "output_type": "stream",
     "text": [
      "Nothing is Captured\n",
      "listening...\n"
     ]
    }
   ],
   "source": [
    "get_weather()"
   ]
  },
  {
   "cell_type": "markdown",
   "metadata": {},
   "source": [
    "Were there times the voice didn't capture correctly? Convert it into a function\n",
    "Please leverage various parameters with speech_recognition to optimize output\n",
    "In addition, please write some looping code to loop back for potential errors\n",
    "1. For example, if 'MJ' is captured instead of 'NJ', we should ask user to confirm\n",
    "2. Timeout errors"
   ]
  },
  {
   "cell_type": "code",
   "execution_count": null,
   "metadata": {},
   "outputs": [],
   "source": []
  },
  {
   "cell_type": "markdown",
   "metadata": {},
   "source": [
    "Let's leverage what you learned in class this week and design a quick tool"
   ]
  },
  {
   "cell_type": "code",
   "execution_count": null,
   "metadata": {},
   "outputs": [],
   "source": [
    "import pandas as pd\n",
    "import numpy as np\n",
    "\n",
    "###Symbol column will provide you ticker of all 30 index\n",
    "ticker = pd.read_html('https://en.wikipedia.org/wiki/Dow_Jones_Industrial_Average')\n",
    "ticker[1]"
   ]
  },
  {
   "cell_type": "code",
   "execution_count": null,
   "metadata": {},
   "outputs": [],
   "source": [
    "###Pull volume of stock for individual ticker\n",
    "import requests\n",
    "url_link = 'https://finance.yahoo.com/quote/MMM/key-statistics?p=MMM'\n",
    "enhanced_link = requests.get(url_link,headers ={'User-Agent':'Mozilla/5.0 (Windows NT 10.0; Win64; x64) AppleWebKit/537.36 (KHTML, like Gecko) Chrome/91.0.4472.124 Safari/537.36'})\n",
    "MMM = pd.read_html(enhanced_link.text)\n",
    "MMM[0]"
   ]
  },
  {
   "cell_type": "markdown",
   "metadata": {},
   "source": [
    "Write a program that will send your self an email on stock summary based on last trading day (You may assume the code is only ran after market is closed)\n",
    "1. Stock Ticker with highest volume\n",
    "2. Stock Ticker with largest fluctuation (High - Low) / Low\n",
    "3. Stock Ticker with max gain (Close-Open) / Open\n",
    "4. Stock Ticket with max loss or min gain (Close-Open) / Open\n",
    "Once you have your code finalized, have a copy send to rutgersadvancedpython01@outlook.com"
   ]
  },
  {
   "cell_type": "code",
   "execution_count": null,
   "metadata": {},
   "outputs": [],
   "source": []
  },
  {
   "cell_type": "code",
   "execution_count": null,
   "metadata": {},
   "outputs": [],
   "source": []
  }
 ],
 "metadata": {
  "kernelspec": {
   "display_name": "Python 3",
   "language": "python",
   "name": "python3"
  },
  "language_info": {
   "codemirror_mode": {
    "name": "ipython",
    "version": 3
   },
   "file_extension": ".py",
   "mimetype": "text/x-python",
   "name": "python",
   "nbconvert_exporter": "python",
   "pygments_lexer": "ipython3",
   "version": "3.8.9"
  }
 },
 "nbformat": 4,
 "nbformat_minor": 4
}
