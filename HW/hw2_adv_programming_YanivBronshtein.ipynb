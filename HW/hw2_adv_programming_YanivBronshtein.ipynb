{
 "cells": [
  {
   "cell_type": "code",
   "execution_count": 2,
   "metadata": {},
   "outputs": [],
   "source": [
    "import numpy as np\n",
    "import pandas as pd"
   ]
  },
  {
   "cell_type": "markdown",
   "metadata": {},
   "source": [
    "First, load Hospital sample into a data frame"
   ]
  },
  {
   "cell_type": "code",
   "execution_count": 4,
   "metadata": {},
   "outputs": [
    {
     "data": {
      "text/html": [
       "<div>\n",
       "<style scoped>\n",
       "    .dataframe tbody tr th:only-of-type {\n",
       "        vertical-align: middle;\n",
       "    }\n",
       "\n",
       "    .dataframe tbody tr th {\n",
       "        vertical-align: top;\n",
       "    }\n",
       "\n",
       "    .dataframe thead th {\n",
       "        text-align: right;\n",
       "    }\n",
       "</style>\n",
       "<table border=\"1\" class=\"dataframe\">\n",
       "  <thead>\n",
       "    <tr style=\"text-align: right;\">\n",
       "      <th></th>\n",
       "      <th>Hospital Name</th>\n",
       "      <th>State</th>\n",
       "      <th>AMI_Death_Rate</th>\n",
       "      <th>CABG_Death_Rate</th>\n",
       "      <th>Stroke_Death_Rate</th>\n",
       "      <th>Hospital Ownership</th>\n",
       "      <th>Emergency Service</th>\n",
       "      <th>Customer Survey Score</th>\n",
       "      <th>Survey Date</th>\n",
       "    </tr>\n",
       "  </thead>\n",
       "  <tbody>\n",
       "    <tr>\n",
       "      <th>0</th>\n",
       "      <td>AHMC ANAHEIM REGIONAL MEDICAL CENTER</td>\n",
       "      <td>CA</td>\n",
       "      <td>13.6</td>\n",
       "      <td>3.2</td>\n",
       "      <td>15.0</td>\n",
       "      <td>Voluntary non-profit - Private</td>\n",
       "      <td>Yes</td>\n",
       "      <td>27</td>\n",
       "      <td>4/5/2019</td>\n",
       "    </tr>\n",
       "    <tr>\n",
       "      <th>1</th>\n",
       "      <td>ST MARY MEDICAL CENTER</td>\n",
       "      <td>CA</td>\n",
       "      <td>12.9</td>\n",
       "      <td>2.6</td>\n",
       "      <td>12.0</td>\n",
       "      <td>Voluntary non-profit - Church</td>\n",
       "      <td>Yes</td>\n",
       "      <td>59</td>\n",
       "      <td>4/6/2019</td>\n",
       "    </tr>\n",
       "  </tbody>\n",
       "</table>\n",
       "</div>"
      ],
      "text/plain": [
       "                          Hospital Name State  AMI_Death_Rate  \\\n",
       "0  AHMC ANAHEIM REGIONAL MEDICAL CENTER    CA            13.6   \n",
       "1                ST MARY MEDICAL CENTER    CA            12.9   \n",
       "\n",
       "   CABG_Death_Rate  Stroke_Death_Rate              Hospital Ownership  \\\n",
       "0              3.2               15.0  Voluntary non-profit - Private   \n",
       "1              2.6               12.0   Voluntary non-profit - Church   \n",
       "\n",
       "  Emergency Service  Customer Survey Score Survey Date  \n",
       "0               Yes                     27    4/5/2019  \n",
       "1               Yes                     59    4/6/2019  "
      ]
     },
     "execution_count": 4,
     "metadata": {},
     "output_type": "execute_result"
    }
   ],
   "source": [
    "hospital = pd.read_csv(\"../Data/hospital_sample.csv\")\n",
    "hospital.head(2)"
   ]
  },
  {
   "cell_type": "code",
   "execution_count": 22,
   "metadata": {},
   "outputs": [
    {
     "data": {
      "text/plain": [
       "['Hospital Name',\n",
       " 'State',\n",
       " 'AMI_Death_Rate',\n",
       " 'CABG_Death_Rate',\n",
       " 'Stroke_Death_Rate',\n",
       " 'Hospital Ownership',\n",
       " 'Emergency Service',\n",
       " 'Customer Survey Score',\n",
       " 'Survey Date',\n",
       " 'Avg_Death_Rate']"
      ]
     },
     "execution_count": 22,
     "metadata": {},
     "output_type": "execute_result"
    }
   ],
   "source": [
    "hospital.columns.to_list()"
   ]
  },
  {
   "cell_type": "markdown",
   "metadata": {},
   "source": [
    "How many states are presented in the data\n",
    "How many hospitals are there in each state?"
   ]
  },
  {
   "cell_type": "code",
   "execution_count": 6,
   "metadata": {},
   "outputs": [
    {
     "data": {
      "text/plain": [
       "3"
      ]
     },
     "execution_count": 6,
     "metadata": {},
     "output_type": "execute_result"
    }
   ],
   "source": [
    "len(hospital.State.unique())"
   ]
  },
  {
   "cell_type": "markdown",
   "metadata": {},
   "source": [
    "Which hospital has the highest death rate? Save that in a new column called Avg_Death_Rate\n",
    "(You may define worst as highest avg death rate among AMI, CABG, Stroke)"
   ]
  },
  {
   "cell_type": "code",
   "execution_count": 14,
   "metadata": {},
   "outputs": [],
   "source": [
    "hospital['Avg_Death_Rate'] = (\n",
    "    hospital.AMI_Death_Rate + hospital.CABG_Death_Rate + hospital.Stroke_Death_Rate)/3"
   ]
  },
  {
   "cell_type": "code",
   "execution_count": 15,
   "metadata": {},
   "outputs": [
    {
     "data": {
      "text/plain": [
       "51    DESERT REGIONAL MEDICAL CENTER\n",
       "Name: Hospital Name, dtype: object"
      ]
     },
     "execution_count": 15,
     "metadata": {},
     "output_type": "execute_result"
    }
   ],
   "source": [
    "hospital[hospital.Avg_Death_Rate == hospital.Avg_Death_Rate.max()]['Hospital Name']"
   ]
  },
  {
   "cell_type": "markdown",
   "metadata": {},
   "source": [
    "What is the most popular ownership type?"
   ]
  },
  {
   "cell_type": "code",
   "execution_count": 19,
   "metadata": {},
   "outputs": [
    {
     "data": {
      "text/plain": [
       "Voluntary non-profit - Private                 66\n",
       "Proprietary                                    43\n",
       "Voluntary non-profit - Church                  29\n",
       "Government - Hospital District or Authority    18\n",
       "Voluntary non-profit - Other                   16\n",
       "Government - Local                              4\n",
       "Government - Federal                            2\n",
       "Government - State                              1\n",
       "Name: Hospital Ownership, dtype: int64"
      ]
     },
     "execution_count": 19,
     "metadata": {},
     "output_type": "execute_result"
    }
   ],
   "source": [
    "hospital['Hospital Ownership'].value_counts()"
   ]
  },
  {
   "cell_type": "markdown",
   "metadata": {},
   "source": [
    "**Based on the above, Voluntary non-profit - Private is the most popular ownership**"
   ]
  },
  {
   "cell_type": "markdown",
   "metadata": {},
   "source": [
    "For each state, what's highest survey score?"
   ]
  },
  {
   "cell_type": "code",
   "execution_count": 27,
   "metadata": {},
   "outputs": [
    {
     "data": {
      "text/plain": [
       "78"
      ]
     },
     "execution_count": 27,
     "metadata": {},
     "output_type": "execute_result"
    }
   ],
   "source": [
    "hospital['Customer Survey Score'].values.max()"
   ]
  },
  {
   "cell_type": "code",
   "execution_count": 24,
   "metadata": {},
   "outputs": [
    {
     "data": {
      "text/plain": [
       "State\n",
       "CA    67\n",
       "CO    55\n",
       "FL    78\n",
       "Name: Customer Survey Score, dtype: int64"
      ]
     },
     "execution_count": 24,
     "metadata": {},
     "output_type": "execute_result"
    }
   ],
   "source": [
    "hospital.groupby('State')['Customer Survey Score'].aggregate('max')"
   ]
  },
  {
   "cell_type": "markdown",
   "metadata": {},
   "source": [
    "Now you know the max score of each state, find the hospital name with these scores\n"
   ]
  },
  {
   "cell_type": "code",
   "execution_count": 36,
   "metadata": {},
   "outputs": [
    {
     "data": {
      "text/plain": [
       "68                               SHARP MEMORIAL HOSPITAL\n",
       "69     CALIFORNIA PACIFIC MEDICAL CTR-PACIFIC CAMPUS ...\n",
       "104                        MEDICAL CENTER OF THE ROCKIES\n",
       "132                                          MAYO CLINIC\n",
       "Name: Hospital Name, dtype: object"
      ]
     },
     "execution_count": 36,
     "metadata": {},
     "output_type": "execute_result"
    }
   ],
   "source": [
    "hospital.query(\"(`Customer Survey Score`== 67 & State=='CA') | (`Customer Survey Score`== 55 & State=='CO') |(`Customer Survey Score`== 78 & State=='FL') \")['Hospital Name']"
   ]
  },
  {
   "cell_type": "markdown",
   "metadata": {},
   "source": [
    "How many surveys do we have per month? plot it into a bar chart\n",
    "\n",
    "**Hint:** you may use function \n",
    "  \n",
    "  \n",
    "df['month'] = pd.DatetimeIndex(df['Survey_Date']).month\n",
    "\n",
    "for value_counts, you may use sort = False to avoid sorting"
   ]
  },
  {
   "cell_type": "code",
   "execution_count": 44,
   "metadata": {},
   "outputs": [],
   "source": [
    "import matplotlib.pyplot as plt\n",
    "from datetime import datetime\n"
   ]
  },
  {
   "cell_type": "code",
   "execution_count": 47,
   "metadata": {},
   "outputs": [],
   "source": [
    "hospital['month'] = pd.DatetimeIndex(hospital['Survey Date']).month\n"
   ]
  },
  {
   "cell_type": "code",
   "execution_count": 57,
   "metadata": {},
   "outputs": [
    {
     "data": {
      "text/plain": [
       "<matplotlib.axes._subplots.AxesSubplot at 0x7f9e5d400640>"
      ]
     },
     "execution_count": 57,
     "metadata": {},
     "output_type": "execute_result"
    },
    {
     "data": {
      "image/png": "[encoded data removed]",
      "text/plain": [
       "<Figure size 432x288 with 1 Axes>"
      ]
     },
     "metadata": {
      "needs_background": "light"
     },
     "output_type": "display_data"
    }
   ],
   "source": [
    "hospital.month.value_counts(sort=False).plot(kind='barh')"
   ]
  },
  {
   "cell_type": "code",
   "execution_count": null,
   "metadata": {},
   "outputs": [],
   "source": []
  },
  {
   "cell_type": "code",
   "execution_count": null,
   "metadata": {},
   "outputs": [],
   "source": []
  },
  {
   "cell_type": "code",
   "execution_count": null,
   "metadata": {},
   "outputs": [],
   "source": []
  },
  {
   "cell_type": "code",
   "execution_count": null,
   "metadata": {},
   "outputs": [],
   "source": []
  },
  {
   "cell_type": "code",
   "execution_count": null,
   "metadata": {},
   "outputs": [],
   "source": []
  },
  {
   "cell_type": "code",
   "execution_count": null,
   "metadata": {},
   "outputs": [],
   "source": []
  },
  {
   "cell_type": "code",
   "execution_count": null,
   "metadata": {},
   "outputs": [],
   "source": []
  },
  {
   "cell_type": "code",
   "execution_count": null,
   "metadata": {},
   "outputs": [],
   "source": []
  },
  {
   "cell_type": "code",
   "execution_count": null,
   "metadata": {},
   "outputs": [],
   "source": []
  }
 ],
 "metadata": {
  "kernelspec": {
   "display_name": "Python 3",
   "language": "python",
   "name": "python3"
  },
  "language_info": {
   "codemirror_mode": {
    "name": "ipython",
    "version": 3
   },
   "file_extension": ".py",
   "mimetype": "text/x-python",
   "name": "python",
   "nbconvert_exporter": "python",
   "pygments_lexer": "ipython3",
   "version": "3.8.9"
  }
 },
 "nbformat": 4,
 "nbformat_minor": 2
}
