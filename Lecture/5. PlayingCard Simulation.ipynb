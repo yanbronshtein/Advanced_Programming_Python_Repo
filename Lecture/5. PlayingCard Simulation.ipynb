{
 "cells": [
  {
   "cell_type": "code",
   "execution_count": 1,
   "metadata": {},
   "outputs": [],
   "source": [
    "###playing card simulation\n",
    "\n",
    "import numpy as np"
   ]
  },
  {
   "cell_type": "code",
   "execution_count": 2,
   "metadata": {},
   "outputs": [
    {
     "data": {
      "text/plain": [
       "array([ 0,  1,  2,  3,  4,  5,  6,  7,  8,  9, 10, 11, 12, 13, 14, 15, 16,\n",
       "       17, 18, 19, 20, 21, 22, 23, 24, 25, 26, 27, 28, 29, 30, 31, 32, 33,\n",
       "       34, 35, 36, 37, 38, 39, 40, 41, 42, 43, 44, 45, 46, 47, 48, 49, 50,\n",
       "       51])"
      ]
     },
     "execution_count": 2,
     "metadata": {},
     "output_type": "execute_result"
    }
   ],
   "source": [
    "deck = np.arange(52)\n",
    "deck"
   ]
  },
  {
   "cell_type": "code",
   "execution_count": 3,
   "metadata": {},
   "outputs": [
    {
     "data": {
      "text/plain": [
       "array([0, 1, 2, 3, 0, 1, 2, 3, 0, 1, 2, 3, 0, 1, 2, 3, 0, 1, 2, 3, 0, 1,\n",
       "       2, 3, 0, 1, 2, 3, 0, 1, 2, 3, 0, 1, 2, 3, 0, 1, 2, 3, 0, 1, 2, 3,\n",
       "       0, 1, 2, 3, 0, 1, 2, 3])"
      ]
     },
     "execution_count": 3,
     "metadata": {},
     "output_type": "execute_result"
    }
   ],
   "source": [
    "deck_suite = deck % 4\n",
    "deck_suite"
   ]
  },
  {
   "cell_type": "code",
   "execution_count": 4,
   "metadata": {},
   "outputs": [
    {
     "data": {
      "text/plain": [
       "array([ 1,  2,  3,  4,  5,  6,  7,  8,  9, 10, 11, 12, 13,  1,  2,  3,  4,\n",
       "        5,  6,  7,  8,  9, 10, 11, 12, 13,  1,  2,  3,  4,  5,  6,  7,  8,\n",
       "        9, 10, 11, 12, 13,  1,  2,  3,  4,  5,  6,  7,  8,  9, 10, 11, 12,\n",
       "       13])"
      ]
     },
     "execution_count": 4,
     "metadata": {},
     "output_type": "execute_result"
    }
   ],
   "source": [
    "deck_num = deck % 13\n",
    "deck_num = deck_num+1\n",
    "deck_num"
   ]
  },
  {
   "cell_type": "code",
   "execution_count": 5,
   "metadata": {},
   "outputs": [
    {
     "data": {
      "text/plain": [
       "array([[ 0,  1],\n",
       "       [ 1,  2],\n",
       "       [ 2,  3],\n",
       "       [ 3,  4],\n",
       "       [ 0,  5],\n",
       "       [ 1,  6],\n",
       "       [ 2,  7],\n",
       "       [ 3,  8],\n",
       "       [ 0,  9],\n",
       "       [ 1, 10],\n",
       "       [ 2, 11],\n",
       "       [ 3, 12],\n",
       "       [ 0, 13],\n",
       "       [ 1,  1],\n",
       "       [ 2,  2],\n",
       "       [ 3,  3],\n",
       "       [ 0,  4],\n",
       "       [ 1,  5],\n",
       "       [ 2,  6],\n",
       "       [ 3,  7],\n",
       "       [ 0,  8],\n",
       "       [ 1,  9],\n",
       "       [ 2, 10],\n",
       "       [ 3, 11],\n",
       "       [ 0, 12],\n",
       "       [ 1, 13],\n",
       "       [ 2,  1],\n",
       "       [ 3,  2],\n",
       "       [ 0,  3],\n",
       "       [ 1,  4],\n",
       "       [ 2,  5],\n",
       "       [ 3,  6],\n",
       "       [ 0,  7],\n",
       "       [ 1,  8],\n",
       "       [ 2,  9],\n",
       "       [ 3, 10],\n",
       "       [ 0, 11],\n",
       "       [ 1, 12],\n",
       "       [ 2, 13],\n",
       "       [ 3,  1],\n",
       "       [ 0,  2],\n",
       "       [ 1,  3],\n",
       "       [ 2,  4],\n",
       "       [ 3,  5],\n",
       "       [ 0,  6],\n",
       "       [ 1,  7],\n",
       "       [ 2,  8],\n",
       "       [ 3,  9],\n",
       "       [ 0, 10],\n",
       "       [ 1, 11],\n",
       "       [ 2, 12],\n",
       "       [ 3, 13]])"
      ]
     },
     "execution_count": 5,
     "metadata": {},
     "output_type": "execute_result"
    }
   ],
   "source": [
    "wholedeck = np.vstack((deck_suite, deck_num))   ##combine suite and number\n",
    "wholedeck = wholedeck.T   ## transform to make each small array as 1 card\n",
    "wholedeck"
   ]
  },
  {
   "cell_type": "code",
   "execution_count": 9,
   "metadata": {},
   "outputs": [
    {
     "data": {
      "text/plain": [
       "array([[ 2,  7],\n",
       "       [ 2,  9],\n",
       "       [ 1,  4],\n",
       "       [ 1, 10],\n",
       "       [ 2,  5],\n",
       "       [ 0, 12],\n",
       "       [ 0,  4],\n",
       "       [ 0, 11],\n",
       "       [ 3,  5],\n",
       "       [ 1,  6],\n",
       "       [ 3,  2],\n",
       "       [ 0,  1],\n",
       "       [ 3, 13],\n",
       "       [ 2,  3],\n",
       "       [ 2,  1],\n",
       "       [ 2, 10],\n",
       "       [ 3,  3],\n",
       "       [ 1, 12],\n",
       "       [ 1,  3],\n",
       "       [ 0, 13],\n",
       "       [ 3,  9],\n",
       "       [ 3,  6],\n",
       "       [ 0,  7],\n",
       "       [ 2, 11],\n",
       "       [ 0,  2],\n",
       "       [ 0,  9],\n",
       "       [ 2,  8],\n",
       "       [ 0,  3],\n",
       "       [ 1, 11],\n",
       "       [ 1, 13],\n",
       "       [ 1,  5],\n",
       "       [ 3, 12],\n",
       "       [ 3,  8],\n",
       "       [ 1,  9],\n",
       "       [ 3,  4],\n",
       "       [ 3, 10],\n",
       "       [ 1,  1],\n",
       "       [ 0,  8],\n",
       "       [ 1,  8],\n",
       "       [ 0,  6],\n",
       "       [ 2, 12],\n",
       "       [ 2,  4],\n",
       "       [ 0, 10],\n",
       "       [ 1,  2],\n",
       "       [ 0,  5],\n",
       "       [ 3,  1],\n",
       "       [ 2,  6],\n",
       "       [ 1,  7],\n",
       "       [ 3, 11],\n",
       "       [ 2, 13],\n",
       "       [ 2,  2],\n",
       "       [ 3,  7]])"
      ]
     },
     "execution_count": 9,
     "metadata": {},
     "output_type": "execute_result"
    }
   ],
   "source": [
    "np.random.shuffle(wholedeck)   #shuffle the deck\n",
    "wholedeck"
   ]
  },
  {
   "cell_type": "code",
   "execution_count": null,
   "metadata": {},
   "outputs": [],
   "source": [
    "wholedeck"
   ]
  },
  {
   "cell_type": "code",
   "execution_count": 10,
   "metadata": {},
   "outputs": [
    {
     "data": {
      "text/plain": [
       "array([[2],\n",
       "       [2],\n",
       "       [1]])"
      ]
     },
     "execution_count": 10,
     "metadata": {},
     "output_type": "execute_result"
    }
   ],
   "source": [
    "##while technically, we only need to work with suite, but let's try to use the whole deck and do maniputation\n",
    "sample = wholedeck[0:3, 0:1]    #select the suite of the first 3 card\n",
    "sample"
   ]
  },
  {
   "cell_type": "code",
   "execution_count": 11,
   "metadata": {},
   "outputs": [
    {
     "data": {
      "text/plain": [
       "array([2, 2, 1])"
      ]
     },
     "execution_count": 11,
     "metadata": {},
     "output_type": "execute_result"
    }
   ],
   "source": [
    "#### flatten the result\n",
    "sample = sample.flatten()\n",
    "sample"
   ]
  },
  {
   "cell_type": "code",
   "execution_count": 12,
   "metadata": {},
   "outputs": [
    {
     "data": {
      "text/plain": [
       "array([ True,  True, False])"
      ]
     },
     "execution_count": 12,
     "metadata": {},
     "output_type": "execute_result"
    }
   ],
   "source": [
    "#### Check all of them are equal to first item\n",
    "sample == sample[0]"
   ]
  },
  {
   "cell_type": "code",
   "execution_count": 13,
   "metadata": {},
   "outputs": [
    {
     "data": {
      "text/plain": [
       "False"
      ]
     },
     "execution_count": 13,
     "metadata": {},
     "output_type": "execute_result"
    }
   ],
   "source": [
    "### check of all true\n",
    "sample.shape[0] == (sample == sample[0]).sum()   #check to see if statement is true"
   ]
  },
  {
   "cell_type": "code",
   "execution_count": 14,
   "metadata": {},
   "outputs": [],
   "source": [
    "def experiment():\n",
    "    deck = np.arange(52)   ####create deck \n",
    "    deck_suite = deck % 4\n",
    "    deck_num = deck % 13\n",
    "    wholedeck = np.vstack((deck_suite, deck_num)) \n",
    "    wholedeck = wholedeck.T \n",
    "    np.random.shuffle(wholedeck)   ####shuffle deck \n",
    "    sample = wholedeck[0:3, 0:1]    ####sample deck \n",
    "    sample = sample.flatten()\n",
    "    return sample.shape[0] == (sample == sample[0]).sum()  #return if experiment result result in 3 suites are the same"
   ]
  },
  {
   "cell_type": "code",
   "execution_count": 27,
   "metadata": {},
   "outputs": [
    {
     "data": {
      "text/plain": [
       "False"
      ]
     },
     "execution_count": 27,
     "metadata": {},
     "output_type": "execute_result"
    }
   ],
   "source": [
    "experiment()    #we can run experiment"
   ]
  },
  {
   "cell_type": "code",
   "execution_count": 28,
   "metadata": {},
   "outputs": [
    {
     "data": {
      "text/plain": [
       "array([False, False, False, ..., False, False, False])"
      ]
     },
     "execution_count": 28,
     "metadata": {},
     "output_type": "execute_result"
    }
   ],
   "source": [
    "##### Let's run experiment 1,000,000 times\n",
    "result =[]\n",
    "for i in range(0,1000000):\n",
    "    result.append(experiment())\n",
    "result_a = np.asarray(result)\n",
    "result_a"
   ]
  },
  {
   "cell_type": "code",
   "execution_count": 29,
   "metadata": {},
   "outputs": [
    {
     "data": {
      "text/plain": [
       "0.051821"
      ]
     },
     "execution_count": 29,
     "metadata": {},
     "output_type": "execute_result"
    }
   ],
   "source": [
    "####probably of true\n",
    "result_a.sum() / result_a.shape[0]"
   ]
  },
  {
   "cell_type": "code",
   "execution_count": null,
   "metadata": {},
   "outputs": [],
   "source": []
  }
 ],
 "metadata": {
  "kernelspec": {
   "display_name": "Python 3",
   "language": "python",
   "name": "python3"
  },
  "language_info": {
   "codemirror_mode": {
    "name": "ipython",
    "version": 3
   },
   "file_extension": ".py",
   "mimetype": "text/x-python",
   "name": "python",
   "nbconvert_exporter": "python",
   "pygments_lexer": "ipython3",
   "version": "3.8.9"
  }
 },
 "nbformat": 4,
 "nbformat_minor": 2
}
